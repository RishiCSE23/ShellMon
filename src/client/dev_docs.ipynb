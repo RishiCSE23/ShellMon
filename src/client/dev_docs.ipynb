{
 "cells": [
  {
   "attachments": {},
   "cell_type": "markdown",
   "metadata": {},
   "source": [
    "# Import Librararies"
   ]
  },
  {
   "cell_type": "code",
   "execution_count": 61,
   "metadata": {},
   "outputs": [],
   "source": [
    "import psutil as ps\n",
    "from pprint import PrettyPrinter \n",
    "import numpy as np"
   ]
  },
  {
   "cell_type": "code",
   "execution_count": 46,
   "metadata": {},
   "outputs": [],
   "source": [
    "pp = PrettyPrinter(indent=4)"
   ]
  },
  {
   "attachments": {},
   "cell_type": "markdown",
   "metadata": {},
   "source": [
    "# 1. `get_cpu_info()`"
   ]
  },
  {
   "attachments": {},
   "cell_type": "markdown",
   "metadata": {},
   "source": [
    "## 1.1.  `cpu_times()`"
   ]
  },
  {
   "cell_type": "code",
   "execution_count": 49,
   "metadata": {},
   "outputs": [
    {
     "name": "stdout",
     "output_type": "stream",
     "text": [
      "per_cpu = False\n",
      "scputimes(user=464723.203125, system=340127.484375, idle=20740680.71875, interrupt=5643.046875, dpc=7306.140625)\n",
      "\n",
      "per_cpu = True\n",
      "[   scputimes(user=28121.921875, system=36035.31249999977, idle=1731303.8125, interrupt=3311.625, dpc=6798.984375),\n",
      "    scputimes(user=21972.999999999996, system=13291.578125, idle=1760196.46875, interrupt=143.5625, dpc=155.796875),\n",
      "    scputimes(user=72924.765625, system=47881.953125, idle=1674654.21875, interrupt=311.78125, dpc=49.296875),\n",
      "    scputimes(user=23063.359375, system=10038.84375, idle=1762358.734375, interrupt=100.53125, dpc=18.828125),\n",
      "    scputimes(user=43571.78125, system=27314.3125, idle=1724574.84375, interrupt=222.40625, dpc=38.453125),\n",
      "    scputimes(user=30803.828125, system=25294.531249999767, idle=1739362.578125, interrupt=143.71875, dpc=18.59375),\n",
      "    scputimes(user=50166.43749999999, system=62083.20312499977, idle=1683211.296875, interrupt=248.09375, dpc=38.078125),\n",
      "    scputimes(user=40469.5, system=26224.90625, idle=1728766.5312499998, interrupt=104.71875, dpc=62.703125),\n",
      "    scputimes(user=53164.46874999999, system=32654.078125000233, idle=1709642.3749999998, interrupt=245.390625, dpc=54.046875),\n",
      "    scputimes(user=24982.296874999996, system=12945.328125000233, idle=1757533.2968749998, interrupt=166.234375, dpc=17.21875),\n",
      "    scputimes(user=42748.25, system=24910.343750000233, idle=1727802.3281249998, interrupt=452.6875, dpc=37.375),\n",
      "    scputimes(user=32733.59375, system=21453.09375, idle=1741274.234375, interrupt=192.296875, dpc=16.765625)]\n"
     ]
    }
   ],
   "source": [
    "cpu_times = ps.cpu_times(percpu=False)\n",
    "cpu_times_per_cpu = ps.cpu_times(percpu=True)\n",
    "\n",
    "print('per_cpu = False')\n",
    "pp.pprint(cpu_times)\n",
    "\n",
    "print('\\nper_cpu = True')\n",
    "pp.pprint(cpu_times_per_cpu)"
   ]
  },
  {
   "cell_type": "code",
   "execution_count": 35,
   "metadata": {},
   "outputs": [
    {
     "name": "stdout",
     "output_type": "stream",
     "text": [
      "user\n",
      "system\n",
      "idle\n",
      "interrupt\n",
      "dpc\n"
     ]
    }
   ],
   "source": [
    "# accessing the attributes of the psutil object\n",
    "for field in cpu_times._fields: \n",
    "    print(field)"
   ]
  },
  {
   "cell_type": "code",
   "execution_count": 36,
   "metadata": {},
   "outputs": [
    {
     "data": {
      "text/plain": [
       "464088.0625"
      ]
     },
     "execution_count": 36,
     "metadata": {},
     "output_type": "execute_result"
    }
   ],
   "source": [
    "getattr(cpu_times, 'user') # from the cpu_times object get the value of the attribute 'user'"
   ]
  },
  {
   "cell_type": "code",
   "execution_count": 38,
   "metadata": {},
   "outputs": [
    {
     "data": {
      "text/plain": [
       "{'user': 464088.0625,\n",
       " 'system': 339884.046875,\n",
       " 'idle': 20735536.984375,\n",
       " 'interrupt': 5634.75,\n",
       " 'dpc': 7299.53125}"
      ]
     },
     "execution_count": 38,
     "metadata": {},
     "output_type": "execute_result"
    }
   ],
   "source": [
    "{field: getattr(cpu_times, field) for field in cpu_times._fields} # dict comprehension {attr : val_of_attr}"
   ]
  },
  {
   "cell_type": "code",
   "execution_count": 55,
   "metadata": {},
   "outputs": [
    {
     "data": {
      "text/plain": [
       "{'cpu_0': {'user': 28121.921875,\n",
       "  'system': 36035.31249999977,\n",
       "  'idle': 1731303.8125,\n",
       "  'interrupt': 3311.625,\n",
       "  'dpc': 6798.984375},\n",
       " 'cpu_1': {'user': 21972.999999999996,\n",
       "  'system': 13291.578125,\n",
       "  'idle': 1760196.46875,\n",
       "  'interrupt': 143.5625,\n",
       "  'dpc': 155.796875},\n",
       " 'cpu_2': {'user': 72924.765625,\n",
       "  'system': 47881.953125,\n",
       "  'idle': 1674654.21875,\n",
       "  'interrupt': 311.78125,\n",
       "  'dpc': 49.296875},\n",
       " 'cpu_3': {'user': 23063.359375,\n",
       "  'system': 10038.84375,\n",
       "  'idle': 1762358.734375,\n",
       "  'interrupt': 100.53125,\n",
       "  'dpc': 18.828125},\n",
       " 'cpu_4': {'user': 43571.78125,\n",
       "  'system': 27314.3125,\n",
       "  'idle': 1724574.84375,\n",
       "  'interrupt': 222.40625,\n",
       "  'dpc': 38.453125},\n",
       " 'cpu_5': {'user': 30803.828125,\n",
       "  'system': 25294.531249999767,\n",
       "  'idle': 1739362.578125,\n",
       "  'interrupt': 143.71875,\n",
       "  'dpc': 18.59375},\n",
       " 'cpu_6': {'user': 50166.43749999999,\n",
       "  'system': 62083.20312499977,\n",
       "  'idle': 1683211.296875,\n",
       "  'interrupt': 248.09375,\n",
       "  'dpc': 38.078125},\n",
       " 'cpu_7': {'user': 40469.5,\n",
       "  'system': 26224.90625,\n",
       "  'idle': 1728766.5312499998,\n",
       "  'interrupt': 104.71875,\n",
       "  'dpc': 62.703125},\n",
       " 'cpu_8': {'user': 53164.46874999999,\n",
       "  'system': 32654.078125000233,\n",
       "  'idle': 1709642.3749999998,\n",
       "  'interrupt': 245.390625,\n",
       "  'dpc': 54.046875},\n",
       " 'cpu_9': {'user': 24982.296874999996,\n",
       "  'system': 12945.328125000233,\n",
       "  'idle': 1757533.2968749998,\n",
       "  'interrupt': 166.234375,\n",
       "  'dpc': 17.21875},\n",
       " 'cpu_10': {'user': 42748.25,\n",
       "  'system': 24910.343750000233,\n",
       "  'idle': 1727802.3281249998,\n",
       "  'interrupt': 452.6875,\n",
       "  'dpc': 37.375},\n",
       " 'cpu_11': {'user': 32733.59375,\n",
       "  'system': 21453.09375,\n",
       "  'idle': 1741274.234375,\n",
       "  'interrupt': 192.296875,\n",
       "  'dpc': 16.765625}}"
      ]
     },
     "execution_count": 55,
     "metadata": {},
     "output_type": "execute_result"
    }
   ],
   "source": [
    "{f'cpu_{cpu_times_per_cpu.index(inner_obj)}' :  # getting cpu index \n",
    "    { field :                                   # attr of each cpu    \n",
    "        getattr(inner_obj, field)               # val_of(attr) of each cpu      \n",
    "        for field in inner_obj._fields          # for attr in the field_list\n",
    "    } \n",
    "    for inner_obj in cpu_times_per_cpu          # for each cpu in the cpu_list\n",
    "}"
   ]
  },
  {
   "cell_type": "markdown",
   "metadata": {},
   "source": [
    "## 1.2. `cpu_percent()`"
   ]
  },
  {
   "cell_type": "code",
   "execution_count": 65,
   "metadata": {},
   "outputs": [
    {
     "name": "stdout",
     "output_type": "stream",
     "text": [
      "cpu_percent = 43.475\n",
      "cpu_percent_per_cpu = [56.5, 53.1, 42.4, 39.1, 45.3, 39.1, 45.3, 46.9, 44.6, 28.1, 42.2, 39.1]\n"
     ]
    }
   ],
   "source": [
    "cpu_percent_per_cpu = ps.cpu_percent(interval=1, percpu=True)\n",
    "cpu_percent = np.mean(cpu_percent_per_cpu)\n",
    "\n",
    "print(f'cpu_percent = {\"%.3f\"%cpu_percent}')\n",
    "print(f'cpu_percent_per_cpu = {cpu_percent_per_cpu}')"
   ]
  },
  {
   "cell_type": "code",
   "execution_count": 68,
   "metadata": {},
   "outputs": [
    {
     "data": {
      "text/plain": [
       "{'cpu_0': 56.5,\n",
       " 'cpu_1': 53.1,\n",
       " 'cpu_2': 42.4,\n",
       " 'cpu_3': 39.1,\n",
       " 'cpu_4': 45.3,\n",
       " 'cpu_7': 46.9,\n",
       " 'cpu_8': 44.6,\n",
       " 'cpu_9': 28.1,\n",
       " 'cpu_10': 42.2}"
      ]
     },
     "execution_count": 68,
     "metadata": {},
     "output_type": "execute_result"
    }
   ],
   "source": [
    "{ f'cpu_{cpu_percent_per_cpu.index(inner_val)}' : inner_val for inner_val in cpu_percent_per_cpu  }"
   ]
  },
  {
   "cell_type": "markdown",
   "metadata": {},
   "source": [
    "## 1.3. `cpu_stats()`"
   ]
  },
  {
   "cell_type": "code",
   "execution_count": 70,
   "metadata": {},
   "outputs": [
    {
     "data": {
      "text/plain": [
       "{'ctx_switches': 232580718,\n",
       " 'interrupts': 3882166980,\n",
       " 'soft_interrupts': 0,\n",
       " 'syscalls': 2918315706}"
      ]
     },
     "execution_count": 70,
     "metadata": {},
     "output_type": "execute_result"
    }
   ],
   "source": [
    "cpu_stats = ps.cpu_stats()\n",
    "\n",
    "{ field : getattr(cpu_stats, field) for field in cpu_stats._fields }"
   ]
  },
  {
   "cell_type": "markdown",
   "metadata": {},
   "source": [
    "## 1.4. `cpu_freq()`"
   ]
  },
  {
   "cell_type": "code",
   "execution_count": 72,
   "metadata": {},
   "outputs": [
    {
     "name": "stdout",
     "output_type": "stream",
     "text": [
      "'cpu_freq scpufreq(current=3500.0, min=0.0, max=3501.0)'\n",
      "'cpu_freq_per_cpu [scpufreq(current=3500.0, min=0.0, max=3501.0)]'\n"
     ]
    }
   ],
   "source": [
    "cpu_freq=ps.cpu_freq(percpu=False)\n",
    "cpu_freq_per_cpu=ps.cpu_freq(percpu=True)\n",
    "\n",
    "pp.pprint(f'cpu_freq {cpu_freq}')\n",
    "pp.pprint(f'cpu_freq_per_cpu {cpu_freq_per_cpu}')"
   ]
  },
  {
   "cell_type": "code",
   "execution_count": 73,
   "metadata": {},
   "outputs": [
    {
     "data": {
      "text/plain": [
       "{'current': 3500.0, 'min': 0.0, 'max': 3501.0}"
      ]
     },
     "execution_count": 73,
     "metadata": {},
     "output_type": "execute_result"
    }
   ],
   "source": [
    "{field: getattr(cpu_freq, field) for field in cpu_freq._fields}"
   ]
  },
  {
   "cell_type": "code",
   "execution_count": 75,
   "metadata": {},
   "outputs": [
    {
     "data": {
      "text/plain": [
       "{'cpu_0': {'current': 3500.0, 'min': 0.0, 'max': 3501.0}}"
      ]
     },
     "execution_count": 75,
     "metadata": {},
     "output_type": "execute_result"
    }
   ],
   "source": [
    "{f'cpu_{cpu_freq_per_cpu.index(cpu)}' : {field: getattr(cpu_freq, field) for field in cpu_freq._fields} for cpu in cpu_freq_per_cpu}"
   ]
  },
  {
   "cell_type": "markdown",
   "metadata": {},
   "source": [
    "# Memory "
   ]
  },
  {
   "cell_type": "code",
   "execution_count": 81,
   "metadata": {},
   "outputs": [
    {
     "name": "stdout",
     "output_type": "stream",
     "text": [
      "('virtual memory --> svmem(total=68372074496, available=21263679488, '\n",
      " 'percent=68.9, used=47108395008, free=21263679488)')\n",
      "('swap memory --> sswap(total=14551367680, used=23525089280, free=-8973721600, '\n",
      " 'percent=161.7, sin=0, sout=0)')\n"
     ]
    }
   ],
   "source": [
    "mem_virt = ps.virtual_memory()\n",
    "mem_swap = ps.swap_memory()\n",
    "\n",
    "pp.pprint(f'virtual memory --> {mem_virt}')\n",
    "pp.pprint(f'swap memory --> {mem_swap}')"
   ]
  },
  {
   "cell_type": "code",
   "execution_count": 83,
   "metadata": {},
   "outputs": [
    {
     "data": {
      "text/plain": [
       "{'total': 68372074496,\n",
       " 'available': 21263679488,\n",
       " 'percent': 68.9,\n",
       " 'used': 47108395008,\n",
       " 'free': 21263679488}"
      ]
     },
     "execution_count": 83,
     "metadata": {},
     "output_type": "execute_result"
    }
   ],
   "source": [
    "{field : getattr(mem_virt, field) for field in mem_virt._fields}"
   ]
  },
  {
   "cell_type": "code",
   "execution_count": 84,
   "metadata": {},
   "outputs": [
    {
     "data": {
      "text/plain": [
       "{'total': 14551367680,\n",
       " 'used': 23525089280,\n",
       " 'free': -8973721600,\n",
       " 'percent': 161.7,\n",
       " 'sin': 0,\n",
       " 'sout': 0}"
      ]
     },
     "execution_count": 84,
     "metadata": {},
     "output_type": "execute_result"
    }
   ],
   "source": [
    "{field : getattr(mem_swap, field) for field in mem_swap._fields}"
   ]
  },
  {
   "cell_type": "markdown",
   "metadata": {},
   "source": [
    "# Disk "
   ]
  },
  {
   "cell_type": "code",
   "execution_count": 95,
   "metadata": {},
   "outputs": [],
   "source": [
    "disk_part = ps.disk_partitions(all=True)\n",
    "disk_usage = ps.disk_usage('/')\n",
    "disk_io = ps.disk_io_counters()"
   ]
  },
  {
   "cell_type": "code",
   "execution_count": 88,
   "metadata": {},
   "outputs": [
    {
     "name": "stdout",
     "output_type": "stream",
     "text": [
      "[sdiskpart(device='C:\\\\', mountpoint='C:\\\\', fstype='NTFS', opts='rw,fixed', maxfile=255, maxpath=260), sdiskpart(device='D:\\\\', mountpoint='D:\\\\', fstype='NTFS', opts='rw,fixed', maxfile=255, maxpath=260), sdiskpart(device='E:\\\\', mountpoint='E:\\\\', fstype='NTFS', opts='rw,fixed', maxfile=255, maxpath=260), sdiskpart(device='F:\\\\', mountpoint='F:\\\\', fstype='NTFS', opts='rw,fixed', maxfile=255, maxpath=260)]\n"
     ]
    }
   ],
   "source": [
    "print(disk_part)"
   ]
  },
  {
   "cell_type": "code",
   "execution_count": 90,
   "metadata": {},
   "outputs": [
    {
     "name": "stdout",
     "output_type": "stream",
     "text": [
      "sdiskusage(total=498955927552, used=322623623168, free=176332304384, percent=64.7)\n"
     ]
    }
   ],
   "source": [
    "print(disk_usage)"
   ]
  },
  {
   "cell_type": "code",
   "execution_count": 96,
   "metadata": {},
   "outputs": [
    {
     "name": "stdout",
     "output_type": "stream",
     "text": [
      "sdiskio(read_count=2916719, write_count=21616909, read_bytes=149541564928, write_bytes=395489656832, read_time=2063, write_time=14879)\n"
     ]
    }
   ],
   "source": [
    "print(disk_io)"
   ]
  },
  {
   "cell_type": "code",
   "execution_count": 92,
   "metadata": {},
   "outputs": [
    {
     "data": {
      "text/plain": [
       "{'part_0': {'device': 'C:\\\\',\n",
       "  'mountpoint': 'C:\\\\',\n",
       "  'fstype': 'NTFS',\n",
       "  'opts': 'rw,fixed',\n",
       "  'maxfile': 255,\n",
       "  'maxpath': 260},\n",
       " 'part_1': {'device': 'D:\\\\',\n",
       "  'mountpoint': 'D:\\\\',\n",
       "  'fstype': 'NTFS',\n",
       "  'opts': 'rw,fixed',\n",
       "  'maxfile': 255,\n",
       "  'maxpath': 260},\n",
       " 'part_2': {'device': 'E:\\\\',\n",
       "  'mountpoint': 'E:\\\\',\n",
       "  'fstype': 'NTFS',\n",
       "  'opts': 'rw,fixed',\n",
       "  'maxfile': 255,\n",
       "  'maxpath': 260},\n",
       " 'part_3': {'device': 'F:\\\\',\n",
       "  'mountpoint': 'F:\\\\',\n",
       "  'fstype': 'NTFS',\n",
       "  'opts': 'rw,fixed',\n",
       "  'maxfile': 255,\n",
       "  'maxpath': 260}}"
      ]
     },
     "execution_count": 92,
     "metadata": {},
     "output_type": "execute_result"
    }
   ],
   "source": [
    "{ f'part_{disk_part.index(part)}' : { field : getattr(part, field) for field in part._fields } for part in disk_part }"
   ]
  },
  {
   "cell_type": "code",
   "execution_count": 94,
   "metadata": {},
   "outputs": [
    {
     "data": {
      "text/plain": [
       "{'total': 498955927552,\n",
       " 'used': 322623623168,\n",
       " 'free': 176332304384,\n",
       " 'percent': 64.7}"
      ]
     },
     "execution_count": 94,
     "metadata": {},
     "output_type": "execute_result"
    }
   ],
   "source": [
    "{field : getattr(disk_usage, field) for field in disk_usage._fields}"
   ]
  },
  {
   "cell_type": "code",
   "execution_count": 97,
   "metadata": {},
   "outputs": [
    {
     "data": {
      "text/plain": [
       "{'read_count': 2916719,\n",
       " 'write_count': 21616909,\n",
       " 'read_bytes': 149541564928,\n",
       " 'write_bytes': 395489656832,\n",
       " 'read_time': 2063,\n",
       " 'write_time': 14879}"
      ]
     },
     "execution_count": 97,
     "metadata": {},
     "output_type": "execute_result"
    }
   ],
   "source": [
    "{field : getattr(disk_io, field) for field in disk_io._fields}"
   ]
  },
  {
   "cell_type": "markdown",
   "metadata": {},
   "source": [
    "# NET "
   ]
  },
  {
   "cell_type": "code",
   "execution_count": 138,
   "metadata": {},
   "outputs": [],
   "source": [
    "net_io = ps.net_io_counters(pernic=False, nowrap=True)\n",
    "net_io_per_nic = ps.net_io_counters(pernic=True, nowrap=True)\n",
    "net_iface = ps.net_connections(kind='inet')\n",
    "net_if_addr = ps.net_if_addrs()\n",
    "net_if_status = ps.net_if_stats()"
   ]
  },
  {
   "cell_type": "code",
   "execution_count": 106,
   "metadata": {},
   "outputs": [
    {
     "name": "stdout",
     "output_type": "stream",
     "text": [
      "\n",
      " net_io\n",
      "snetio(bytes_sent=3698907778, bytes_recv=16335954574, packets_sent=12647220, packets_recv=33347810, errin=0, errout=0, dropin=0, dropout=0)\n"
     ]
    }
   ],
   "source": [
    "print('\\n net_io')\n",
    "pp.pprint(net_io)"
   ]
  },
  {
   "cell_type": "code",
   "execution_count": 107,
   "metadata": {},
   "outputs": [
    {
     "name": "stdout",
     "output_type": "stream",
     "text": [
      "\n",
      " net_io_pernic\n",
      "{   'Ethernet 3': snetio(bytes_sent=0, bytes_recv=0, packets_sent=0, packets_recv=0, errin=0, errout=0, dropin=0, dropout=0),\n",
      "    'Ethernet 4': snetio(bytes_sent=2683247, bytes_recv=3056903, packets_sent=27175, packets_recv=21175, errin=0, errout=0, dropin=0, dropout=0),\n",
      "    'Local Area Connection* 10': snetio(bytes_sent=0, bytes_recv=0, packets_sent=0, packets_recv=0, errin=0, errout=0, dropin=0, dropout=0),\n",
      "    'Local Area Connection* 9': snetio(bytes_sent=0, bytes_recv=0, packets_sent=0, packets_recv=0, errin=0, errout=0, dropin=0, dropout=0),\n",
      "    'Loopback Pseudo-Interface 1': snetio(bytes_sent=0, bytes_recv=0, packets_sent=0, packets_recv=0, errin=0, errout=0, dropin=0, dropout=0),\n",
      "    'VMware Network Adapter VMnet1': snetio(bytes_sent=160398, bytes_recv=4012, packets_sent=160387, packets_recv=4012, errin=0, errout=0, dropin=0, dropout=0),\n",
      "    'VMware Network Adapter VMnet10': snetio(bytes_sent=156355, bytes_recv=0, packets_sent=156356, packets_recv=0, errin=0, errout=0, dropin=0, dropout=0),\n",
      "    'VMware Network Adapter VMnet8': snetio(bytes_sent=5719490, bytes_recv=10528463, packets_sent=5719491, packets_recv=10528463, errin=0, errout=0, dropin=0, dropout=0),\n",
      "    'Wi-Fi': snetio(bytes_sent=3690188288, bytes_recv=16322365196, packets_sent=6583811, packets_recv=22794160, errin=0, errout=0, dropin=0, dropout=0)}\n"
     ]
    }
   ],
   "source": [
    "print('\\n net_io_pernic')\n",
    "pp.pprint(net_io_per_nic)"
   ]
  },
  {
   "cell_type": "code",
   "execution_count": 112,
   "metadata": {},
   "outputs": [
    {
     "name": "stdout",
     "output_type": "stream",
     "text": [
      "\n",
      " net iface\n",
      "[   sconn(fd=-1, family=<AddressFamily.AF_INET: 2>, type=<SocketKind.SOCK_STREAM: 1>, laddr=addr(ip='127.0.0.1', port=49350), raddr=addr(ip='127.0.0.1', port=55629), status='CLOSE_WAIT', pid=15484),\n",
      "    sconn(fd=-1, family=<AddressFamily.AF_INET: 2>, type=<SocketKind.SOCK_STREAM: 1>, laddr=addr(ip='127.0.0.1', port=55499), raddr=addr(ip='127.0.0.1', port=49350), status='TIME_WAIT', pid=0),\n",
      "    sconn(fd=-1, family=<AddressFamily.AF_INET: 2>, type=<SocketKind.SOCK_STREAM: 1>, laddr=addr(ip='0.0.0.0', port=445), raddr=(), status='LISTEN', pid=4),\n",
      "    sconn(fd=-1, family=<AddressFamily.AF_INET: 2>, type=<SocketKind.SOCK_DGRAM: 2>, laddr=addr(ip='127.0.0.1', port=51479), raddr=(), status='NONE', pid=26280),\n",
      "    sconn(fd=-1, family=<AddressFamily.AF_INET: 2>, type=<SocketKind.SOCK_STREAM: 1>, laddr=addr(ip='0.0.0.0', port=49669), raddr=(), status='LISTEN', pid=3480),\n",
      "    sconn(fd=-1, family=<AddressFamily.AF_INET: 2>, type=<SocketKind.SOCK_STREAM: 1>, laddr=addr(ip='127.0.0.1', port=55431), raddr=addr(ip='127.0.0.1', port=1120), status='TIME_WAIT', pid=0),\n",
      "    sconn(fd=-1, family=<AddressFamily.AF_INET6: 23>, type=<SocketKind.SOCK_STREAM: 1>, laddr=addr(ip='::', port=49666), raddr=(), status='LISTEN', pid=1724),\n",
      "    sconn(fd=-1, family=<AddressFamily.AF_INET: 2>, type=<SocketKind.SOCK_STREAM: 1>, laddr=addr(ip='127.0.0.1', port=55613), raddr=addr(ip='127.0.0.1', port=49350), status='TIME_WAIT', pid=0),\n",
      "    sconn(fd=-1, family=<AddressFamily.AF_INET: 2>, type=<SocketKind.SOCK_STREAM: 1>, laddr=addr(ip='127.0.0.1', port=52716), raddr=addr(ip='127.0.0.1', port=52717), status='ESTABLISHED', pid=28808),\n",
      "    sconn(fd=-1, family=<AddressFamily.AF_INET: 2>, type=<SocketKind.SOCK_STREAM: 1>, laddr=addr(ip='127.0.0.1', port=55412), raddr=addr(ip='127.0.0.1', port=55411), status='ESTABLISHED', pid=29780),\n",
      "    sconn(fd=-1, family=<AddressFamily.AF_INET: 2>, type=<SocketKind.SOCK_STREAM: 1>, laddr=addr(ip='127.0.0.1', port=58511), raddr=addr(ip='127.0.0.1', port=58512), status='ESTABLISHED', pid=26020),\n",
      "    sconn(fd=-1, family=<AddressFamily.AF_INET: 2>, type=<SocketKind.SOCK_STREAM: 1>, laddr=addr(ip='127.0.0.1', port=1120), raddr=addr(ip='127.0.0.1', port=55597), status='TIME_WAIT', pid=0),\n",
      "    sconn(fd=-1, family=<AddressFamily.AF_INET: 2>, type=<SocketKind.SOCK_DGRAM: 2>, laddr=addr(ip='10.0.0.1', port=53726), raddr=(), status='NONE', pid=28024),\n",
      "    sconn(fd=-1, family=<AddressFamily.AF_INET: 2>, type=<SocketKind.SOCK_DGRAM: 2>, laddr=addr(ip='10.33.16.24', port=53730), raddr=(), status='NONE', pid=28024),\n",
      "    sconn(fd=-1, family=<AddressFamily.AF_INET: 2>, type=<SocketKind.SOCK_STREAM: 1>, laddr=addr(ip='127.0.0.1', port=55410), raddr=addr(ip='127.0.0.1', port=55409), status='ESTABLISHED', pid=29780),\n",
      "    sconn(fd=-1, family=<AddressFamily.AF_INET: 2>, type=<SocketKind.SOCK_DGRAM: 2>, laddr=addr(ip='192.168.100.1', port=5353), raddr=(), status='NONE', pid=3952),\n",
      "    sconn(fd=-1, family=<AddressFamily.AF_INET6: 23>, type=<SocketKind.SOCK_DGRAM: 2>, laddr=addr(ip='fe80::c935:d75f:dc73:cb91', port=56469), raddr=(), status='NONE', pid=4104),\n",
      "    sconn(fd=-1, family=<AddressFamily.AF_INET: 2>, type=<SocketKind.SOCK_STREAM: 1>, laddr=addr(ip='127.0.0.1', port=55571), raddr=addr(ip='127.0.0.1', port=49350), status='TIME_WAIT', pid=0),\n",
      "    sconn(fd=-1, family=<AddressFamily.AF_INET: 2>, type=<SocketKind.SOCK_DGRAM: 2>, laddr=addr(ip='127.0.0.1', port=51491), raddr=(), status='NONE', pid=26280),\n",
      "    sconn(fd=-1, family=<AddressFamily.AF_INET6: 23>, type=<SocketKind.SOCK_STREAM: 1>, laddr=addr(ip='::1', port=49670), raddr=(), status='LISTEN', pid=4956),\n",
      "    sconn(fd=-1, family=<AddressFamily.AF_INET: 2>, type=<SocketKind.SOCK_STREAM: 1>, laddr=addr(ip='127.0.0.1', port=49682), raddr=addr(ip='127.0.0.1', port=49681), status='ESTABLISHED', pid=25048),\n",
      "    sconn(fd=-1, family=<AddressFamily.AF_INET: 2>, type=<SocketKind.SOCK_STREAM: 1>, laddr=addr(ip='127.0.0.1', port=53651), raddr=addr(ip='127.0.0.1', port=53650), status='ESTABLISHED', pid=10412),\n",
      "    sconn(fd=-1, family=<AddressFamily.AF_INET: 2>, type=<SocketKind.SOCK_STREAM: 1>, laddr=addr(ip='127.0.0.1', port=53946), raddr=addr(ip='127.0.0.1', port=53947), status='ESTABLISHED', pid=29780),\n",
      "    sconn(fd=-1, family=<AddressFamily.AF_INET6: 23>, type=<SocketKind.SOCK_DGRAM: 2>, laddr=addr(ip='fe80::5271:6a56:bf05:3a3d', port=56470), raddr=(), status='NONE', pid=4104),\n",
      "    sconn(fd=-1, family=<AddressFamily.AF_INET: 2>, type=<SocketKind.SOCK_STREAM: 1>, laddr=addr(ip='127.0.0.1', port=59502), raddr=addr(ip='127.0.0.1', port=59501), status='ESTABLISHED', pid=18164),\n",
      "    sconn(fd=-1, family=<AddressFamily.AF_INET: 2>, type=<SocketKind.SOCK_STREAM: 1>, laddr=addr(ip='127.0.0.1', port=55408), raddr=addr(ip='127.0.0.1', port=55407), status='ESTABLISHED', pid=29780),\n",
      "    sconn(fd=-1, family=<AddressFamily.AF_INET: 2>, type=<SocketKind.SOCK_STREAM: 1>, laddr=addr(ip='127.0.0.1', port=53877), raddr=addr(ip='127.0.0.1', port=53878), status='ESTABLISHED', pid=29780),\n",
      "    sconn(fd=-1, family=<AddressFamily.AF_INET: 2>, type=<SocketKind.SOCK_STREAM: 1>, laddr=addr(ip='127.0.0.1', port=52697), raddr=addr(ip='127.0.0.1', port=6000), status='ESTABLISHED', pid=25240),\n",
      "    sconn(fd=-1, family=<AddressFamily.AF_INET: 2>, type=<SocketKind.SOCK_STREAM: 1>, laddr=addr(ip='127.0.0.1', port=9010), raddr=(), status='LISTEN', pid=29780),\n",
      "    sconn(fd=-1, family=<AddressFamily.AF_INET: 2>, type=<SocketKind.SOCK_STREAM: 1>, laddr=addr(ip='10.33.16.24', port=55534), raddr=addr(ip='52.97.208.50', port=443), status='ESTABLISHED', pid=20344),\n",
      "    sconn(fd=-1, family=<AddressFamily.AF_INET: 2>, type=<SocketKind.SOCK_STREAM: 1>, laddr=addr(ip='127.0.0.1', port=53906), raddr=addr(ip='127.0.0.1', port=53907), status='ESTABLISHED', pid=29780),\n",
      "    sconn(fd=-1, family=<AddressFamily.AF_INET: 2>, type=<SocketKind.SOCK_DGRAM: 2>, laddr=addr(ip='0.0.0.0', port=51480), raddr=(), status='NONE', pid=26280),\n",
      "    sconn(fd=-1, family=<AddressFamily.AF_INET: 2>, type=<SocketKind.SOCK_STREAM: 1>, laddr=addr(ip='127.0.0.1', port=54145), raddr=addr(ip='127.0.0.1', port=54144), status='ESTABLISHED', pid=30360),\n",
      "    sconn(fd=-1, family=<AddressFamily.AF_INET: 2>, type=<SocketKind.SOCK_STREAM: 1>, laddr=addr(ip='10.33.16.24', port=55621), raddr=addr(ip='52.97.219.242', port=443), status='ESTABLISHED', pid=22116),\n",
      "    sconn(fd=-1, family=<AddressFamily.AF_INET6: 23>, type=<SocketKind.SOCK_STREAM: 1>, laddr=addr(ip='::', port=49665), raddr=(), status='LISTEN', pid=960),\n",
      "    sconn(fd=-1, family=<AddressFamily.AF_INET: 2>, type=<SocketKind.SOCK_STREAM: 1>, laddr=addr(ip='127.0.0.1', port=55533), raddr=addr(ip='127.0.0.1', port=49350), status='TIME_WAIT', pid=0),\n",
      "    sconn(fd=-1, family=<AddressFamily.AF_INET: 2>, type=<SocketKind.SOCK_STREAM: 1>, laddr=addr(ip='10.33.16.24', port=55363), raddr=addr(ip='52.97.219.242', port=443), status='TIME_WAIT', pid=0),\n",
      "    sconn(fd=-1, family=<AddressFamily.AF_INET: 2>, type=<SocketKind.SOCK_STREAM: 1>, laddr=addr(ip='127.0.0.1', port=53936), raddr=addr(ip='127.0.0.1', port=53935), status='ESTABLISHED', pid=29780),\n",
      "    sconn(fd=-1, family=<AddressFamily.AF_INET: 2>, type=<SocketKind.SOCK_STREAM: 1>, laddr=addr(ip='127.0.0.1', port=1120), raddr=addr(ip='127.0.0.1', port=55582), status='TIME_WAIT', pid=0),\n",
      "    sconn(fd=-1, family=<AddressFamily.AF_INET: 2>, type=<SocketKind.SOCK_STREAM: 1>, laddr=addr(ip='10.33.16.24', port=53460), raddr=addr(ip='142.250.200.10', port=443), status='ESTABLISHED', pid=4328),\n",
      "    sconn(fd=-1, family=<AddressFamily.AF_INET: 2>, type=<SocketKind.SOCK_STREAM: 1>, laddr=addr(ip='127.0.0.1', port=53930), raddr=addr(ip='127.0.0.1', port=53931), status='ESTABLISHED', pid=28808),\n",
      "    sconn(fd=-1, family=<AddressFamily.AF_INET: 2>, type=<SocketKind.SOCK_DGRAM: 2>, laddr=addr(ip='0.0.0.0', port=59559), raddr=(), status='NONE', pid=26280),\n",
      "    sconn(fd=-1, family=<AddressFamily.AF_INET: 2>, type=<SocketKind.SOCK_STREAM: 1>, laddr=addr(ip='127.0.0.1', port=52780), raddr=addr(ip='127.0.0.1', port=52779), status='ESTABLISHED', pid=32476),\n",
      "    sconn(fd=-1, family=<AddressFamily.AF_INET: 2>, type=<SocketKind.SOCK_DGRAM: 2>, laddr=addr(ip='192.168.100.1', port=138), raddr=(), status='NONE', pid=4),\n",
      "    sconn(fd=-1, family=<AddressFamily.AF_INET: 2>, type=<SocketKind.SOCK_STREAM: 1>, laddr=addr(ip='127.0.0.1', port=1120), raddr=addr(ip='127.0.0.1', port=55490), status='TIME_WAIT', pid=0),\n",
      "    sconn(fd=-1, family=<AddressFamily.AF_INET: 2>, type=<SocketKind.SOCK_STREAM: 1>, laddr=addr(ip='127.0.0.1', port=1120), raddr=addr(ip='127.0.0.1', port=55541), status='TIME_WAIT', pid=0),\n",
      "    sconn(fd=-1, family=<AddressFamily.AF_INET: 2>, type=<SocketKind.SOCK_STREAM: 1>, laddr=addr(ip='192.168.100.1', port=139), raddr=(), status='LISTEN', pid=4),\n",
      "    sconn(fd=-1, family=<AddressFamily.AF_INET: 2>, type=<SocketKind.SOCK_DGRAM: 2>, laddr=addr(ip='192.168.102.1', port=1900), raddr=(), status='NONE', pid=4104),\n",
      "    sconn(fd=-1, family=<AddressFamily.AF_INET: 2>, type=<SocketKind.SOCK_DGRAM: 2>, laddr=addr(ip='127.0.0.1', port=62081), raddr=(), status='NONE', pid=26280),\n",
      "    sconn(fd=-1, family=<AddressFamily.AF_INET: 2>, type=<SocketKind.SOCK_STREAM: 1>, laddr=addr(ip='127.0.0.1', port=55484), raddr=addr(ip='127.0.0.1', port=49350), status='TIME_WAIT', pid=0),\n",
      "    sconn(fd=-1, family=<AddressFamily.AF_INET: 2>, type=<SocketKind.SOCK_DGRAM: 2>, laddr=addr(ip='127.0.0.1', port=1900), raddr=(), status='NONE', pid=4104),\n",
      "    sconn(fd=-1, family=<AddressFamily.AF_INET: 2>, type=<SocketKind.SOCK_DGRAM: 2>, laddr=addr(ip='0.0.0.0', port=50001), raddr=(), status='NONE', pid=3976),\n",
      "    sconn(fd=-1, family=<AddressFamily.AF_INET: 2>, type=<SocketKind.SOCK_STREAM: 1>, laddr=addr(ip='127.0.0.1', port=52782), raddr=addr(ip='127.0.0.1', port=52781), status='ESTABLISHED', pid=32476),\n",
      "    sconn(fd=-1, family=<AddressFamily.AF_INET: 2>, type=<SocketKind.SOCK_STREAM: 1>, laddr=addr(ip='127.0.0.1', port=1120), raddr=addr(ip='127.0.0.1', port=55507), status='TIME_WAIT', pid=0),\n",
      "    sconn(fd=-1, family=<AddressFamily.AF_INET: 2>, type=<SocketKind.SOCK_STREAM: 1>, laddr=addr(ip='10.33.16.24', port=54656), raddr=addr(ip='52.108.80.31', port=443), status='ESTABLISHED', pid=20344),\n",
      "    sconn(fd=-1, family=<AddressFamily.AF_INET: 2>, type=<SocketKind.SOCK_STREAM: 1>, laddr=addr(ip='127.0.0.1', port=55565), raddr=addr(ip='127.0.0.1', port=49350), status='TIME_WAIT', pid=0),\n",
      "    sconn(fd=-1, family=<AddressFamily.AF_INET: 2>, type=<SocketKind.SOCK_STREAM: 1>, laddr=addr(ip='127.0.0.1', port=9009), raddr=(), status='LISTEN', pid=29780),\n",
      "    sconn(fd=-1, family=<AddressFamily.AF_INET: 2>, type=<SocketKind.SOCK_DGRAM: 2>, laddr=addr(ip='0.0.0.0', port=4500), raddr=(), status='NONE', pid=3628),\n",
      "    sconn(fd=-1, family=<AddressFamily.AF_INET: 2>, type=<SocketKind.SOCK_STREAM: 1>, laddr=addr(ip='127.0.0.1', port=59008), raddr=addr(ip='127.0.0.1', port=59009), status='ESTABLISHED', pid=14580),\n",
      "    sconn(fd=-1, family=<AddressFamily.AF_INET: 2>, type=<SocketKind.SOCK_DGRAM: 2>, laddr=addr(ip='0.0.0.0', port=5353), raddr=(), status='NONE', pid=9480),\n",
      "    sconn(fd=-1, family=<AddressFamily.AF_INET: 2>, type=<SocketKind.SOCK_STREAM: 1>, laddr=addr(ip='127.0.0.1', port=53876), raddr=addr(ip='127.0.0.1', port=53875), status='ESTABLISHED', pid=29780),\n",
      "    sconn(fd=-1, family=<AddressFamily.AF_INET: 2>, type=<SocketKind.SOCK_STREAM: 1>, laddr=addr(ip='127.0.0.1', port=53874), raddr=addr(ip='127.0.0.1', port=53873), status='ESTABLISHED', pid=29780),\n",
      "    sconn(fd=-1, family=<AddressFamily.AF_INET: 2>, type=<SocketKind.SOCK_STREAM: 1>, laddr=addr(ip='127.0.0.1', port=52781), raddr=addr(ip='127.0.0.1', port=52782), status='ESTABLISHED', pid=32476),\n",
      "    sconn(fd=-1, family=<AddressFamily.AF_INET: 2>, type=<SocketKind.SOCK_STREAM: 1>, laddr=addr(ip='127.0.0.1', port=55573), raddr=addr(ip='127.0.0.1', port=59148), status='TIME_WAIT', pid=0),\n",
      "    sconn(fd=-1, family=<AddressFamily.AF_INET: 2>, type=<SocketKind.SOCK_STREAM: 1>, laddr=addr(ip='127.0.0.1', port=1120), raddr=addr(ip='127.0.0.1', port=55471), status='TIME_WAIT', pid=0),\n",
      "    sconn(fd=-1, family=<AddressFamily.AF_INET6: 23>, type=<SocketKind.SOCK_STREAM: 1>, laddr=addr(ip='::', port=49668), raddr=(), status='LISTEN', pid=2972),\n",
      "    sconn(fd=-1, family=<AddressFamily.AF_INET: 2>, type=<SocketKind.SOCK_STREAM: 1>, laddr=addr(ip='127.0.0.1', port=53873), raddr=addr(ip='127.0.0.1', port=53874), status='ESTABLISHED', pid=29780),\n",
      "    sconn(fd=-1, family=<AddressFamily.AF_INET: 2>, type=<SocketKind.SOCK_DGRAM: 2>, laddr=addr(ip='127.0.0.1', port=59731), raddr=(), status='NONE', pid=20344),\n",
      "    sconn(fd=-1, family=<AddressFamily.AF_INET: 2>, type=<SocketKind.SOCK_STREAM: 1>, laddr=addr(ip='10.33.16.24', port=53224), raddr=addr(ip='35.241.56.184', port=443), status='ESTABLISHED', pid=4328),\n",
      "    sconn(fd=-1, family=<AddressFamily.AF_INET: 2>, type=<SocketKind.SOCK_STREAM: 1>, laddr=addr(ip='127.0.0.1', port=9010), raddr=addr(ip='127.0.0.1', port=53892), status='ESTABLISHED', pid=29780),\n",
      "    sconn(fd=-1, family=<AddressFamily.AF_INET: 2>, type=<SocketKind.SOCK_STREAM: 1>, laddr=addr(ip='127.0.0.1', port=55590), raddr=addr(ip='127.0.0.1', port=49350), status='TIME_WAIT', pid=0),\n",
      "    sconn(fd=-1, family=<AddressFamily.AF_INET: 2>, type=<SocketKind.SOCK_DGRAM: 2>, laddr=addr(ip='192.168.153.1', port=5353), raddr=(), status='NONE', pid=3952),\n",
      "    sconn(fd=-1, family=<AddressFamily.AF_INET: 2>, type=<SocketKind.SOCK_STREAM: 1>, laddr=addr(ip='127.0.0.1', port=1120), raddr=addr(ip='127.0.0.1', port=55425), status='TIME_WAIT', pid=0),\n",
      "    sconn(fd=-1, family=<AddressFamily.AF_INET: 2>, type=<SocketKind.SOCK_STREAM: 1>, laddr=addr(ip='127.0.0.1', port=59230), raddr=addr(ip='127.0.0.1', port=59229), status='ESTABLISHED', pid=4756),\n",
      "    sconn(fd=-1, family=<AddressFamily.AF_INET: 2>, type=<SocketKind.SOCK_STREAM: 1>, laddr=addr(ip='127.0.0.1', port=53935), raddr=addr(ip='127.0.0.1', port=53936), status='ESTABLISHED', pid=29780),\n",
      "    sconn(fd=-1, family=<AddressFamily.AF_INET: 2>, type=<SocketKind.SOCK_STREAM: 1>, laddr=addr(ip='0.0.0.0', port=49665), raddr=(), status='LISTEN', pid=960),\n",
      "    sconn(fd=-1, family=<AddressFamily.AF_INET: 2>, type=<SocketKind.SOCK_DGRAM: 2>, laddr=addr(ip='192.168.100.1', port=1900), raddr=(), status='NONE', pid=4104),\n",
      "    sconn(fd=-1, family=<AddressFamily.AF_INET: 2>, type=<SocketKind.SOCK_DGRAM: 2>, laddr=addr(ip='192.168.153.1', port=1900), raddr=(), status='NONE', pid=4104),\n",
      "    sconn(fd=-1, family=<AddressFamily.AF_INET: 2>, type=<SocketKind.SOCK_DGRAM: 2>, laddr=addr(ip='0.0.0.0', port=51492), raddr=(), status='NONE', pid=26280),\n",
      "    sconn(fd=-1, family=<AddressFamily.AF_INET: 2>, type=<SocketKind.SOCK_STREAM: 1>, laddr=addr(ip='10.33.16.24', port=61754), raddr=addr(ip='13.107.138.8', port=443), status='ESTABLISHED', pid=20344),\n",
      "    sconn(fd=-1, family=<AddressFamily.AF_INET: 2>, type=<SocketKind.SOCK_STREAM: 1>, laddr=addr(ip='10.33.16.24', port=53369), raddr=addr(ip='142.250.179.227', port=443), status='ESTABLISHED', pid=4328),\n",
      "    sconn(fd=-1, family=<AddressFamily.AF_INET: 2>, type=<SocketKind.SOCK_STREAM: 1>, laddr=addr(ip='127.0.0.1', port=53907), raddr=addr(ip='127.0.0.1', port=53906), status='ESTABLISHED', pid=29780),\n",
      "    sconn(fd=-1, family=<AddressFamily.AF_INET: 2>, type=<SocketKind.SOCK_STREAM: 1>, laddr=addr(ip='127.0.0.1', port=55628), raddr=addr(ip='127.0.0.1', port=49350), status='TIME_WAIT', pid=0),\n",
      "    sconn(fd=-1, family=<AddressFamily.AF_INET: 2>, type=<SocketKind.SOCK_STREAM: 1>, laddr=addr(ip='10.33.16.24', port=59704), raddr=addr(ip='52.114.76.239', port=443), status='ESTABLISHED', pid=16000),\n",
      "    sconn(fd=-1, family=<AddressFamily.AF_INET: 2>, type=<SocketKind.SOCK_DGRAM: 2>, laddr=addr(ip='192.168.153.1', port=138), raddr=(), status='NONE', pid=4),\n",
      "    sconn(fd=-1, family=<AddressFamily.AF_INET: 2>, type=<SocketKind.SOCK_DGRAM: 2>, laddr=addr(ip='10.0.0.1', port=5353), raddr=(), status='NONE', pid=3952),\n",
      "    sconn(fd=-1, family=<AddressFamily.AF_INET: 2>, type=<SocketKind.SOCK_DGRAM: 2>, laddr=addr(ip='127.0.0.1', port=51477), raddr=(), status='NONE', pid=26280),\n",
      "    sconn(fd=-1, family=<AddressFamily.AF_INET: 2>, type=<SocketKind.SOCK_STREAM: 1>, laddr=addr(ip='10.33.16.24', port=55606), raddr=addr(ip='52.97.219.226', port=443), status='ESTABLISHED', pid=22116),\n",
      "    sconn(fd=-1, family=<AddressFamily.AF_INET: 2>, type=<SocketKind.SOCK_STREAM: 1>, laddr=addr(ip='127.0.0.1', port=55559), raddr=addr(ip='127.0.0.1', port=49350), status='TIME_WAIT', pid=0),\n",
      "    sconn(fd=-1, family=<AddressFamily.AF_INET: 2>, type=<SocketKind.SOCK_STREAM: 1>, laddr=addr(ip='127.0.0.1', port=1120), raddr=addr(ip='127.0.0.1', port=55427), status='TIME_WAIT', pid=0),\n",
      "    sconn(fd=-1, family=<AddressFamily.AF_INET: 2>, type=<SocketKind.SOCK_STREAM: 1>, laddr=addr(ip='127.0.0.1', port=1120), raddr=addr(ip='127.0.0.1', port=55517), status='TIME_WAIT', pid=0),\n",
      "    sconn(fd=-1, family=<AddressFamily.AF_INET: 2>, type=<SocketKind.SOCK_STREAM: 1>, laddr=addr(ip='127.0.0.1', port=59148), raddr=(), status='LISTEN', pid=1512),\n",
      "    sconn(fd=-1, family=<AddressFamily.AF_INET: 2>, type=<SocketKind.SOCK_STREAM: 1>, laddr=addr(ip='10.33.16.24', port=55398), raddr=addr(ip='216.58.213.2', port=443), status='ESTABLISHED', pid=4328),\n",
      "    sconn(fd=-1, family=<AddressFamily.AF_INET: 2>, type=<SocketKind.SOCK_STREAM: 1>, laddr=addr(ip='10.33.16.24', port=52639), raddr=addr(ip='52.108.88.1', port=443), status='ESTABLISHED', pid=20344),\n",
      "    sconn(fd=-1, family=<AddressFamily.AF_INET: 2>, type=<SocketKind.SOCK_STREAM: 1>, laddr=addr(ip='10.33.16.24', port=55566), raddr=addr(ip='204.79.197.203', port=443), status='ESTABLISHED', pid=3360),\n",
      "    sconn(fd=-1, family=<AddressFamily.AF_INET: 2>, type=<SocketKind.SOCK_STREAM: 1>, laddr=addr(ip='127.0.0.1', port=1120), raddr=addr(ip='127.0.0.1', port=55457), status='TIME_WAIT', pid=0),\n",
      "    sconn(fd=-1, family=<AddressFamily.AF_INET: 2>, type=<SocketKind.SOCK_STREAM: 1>, laddr=addr(ip='10.33.16.24', port=53177), raddr=addr(ip='216.58.212.206', port=443), status='ESTABLISHED', pid=4328),\n",
      "    sconn(fd=-1, family=<AddressFamily.AF_INET: 2>, type=<SocketKind.SOCK_DGRAM: 2>, laddr=addr(ip='0.0.0.0', port=51484), raddr=(), status='NONE', pid=26280),\n",
      "    sconn(fd=-1, family=<AddressFamily.AF_INET: 2>, type=<SocketKind.SOCK_DGRAM: 2>, laddr=addr(ip='10.33.16.24', port=138), raddr=(), status='NONE', pid=4),\n",
      "    sconn(fd=-1, family=<AddressFamily.AF_INET: 2>, type=<SocketKind.SOCK_STREAM: 1>, laddr=addr(ip='192.168.102.1', port=139), raddr=(), status='LISTEN', pid=4),\n",
      "    sconn(fd=-1, family=<AddressFamily.AF_INET: 2>, type=<SocketKind.SOCK_DGRAM: 2>, laddr=addr(ip='192.168.100.1', port=137), raddr=(), status='NONE', pid=4),\n",
      "    sconn(fd=-1, family=<AddressFamily.AF_INET: 2>, type=<SocketKind.SOCK_STREAM: 1>, laddr=addr(ip='127.0.0.1', port=9012), raddr=addr(ip='127.0.0.1', port=53926), status='ESTABLISHED', pid=29780),\n",
      "    sconn(fd=-1, family=<AddressFamily.AF_INET: 2>, type=<SocketKind.SOCK_STREAM: 1>, laddr=addr(ip='127.0.0.1', port=1120), raddr=addr(ip='127.0.0.1', port=55479), status='TIME_WAIT', pid=0),\n",
      "    sconn(fd=-1, family=<AddressFamily.AF_INET6: 23>, type=<SocketKind.SOCK_DGRAM: 2>, laddr=addr(ip='fe80::8e54:42cc:cf62:6484', port=1900), raddr=(), status='NONE', pid=4104),\n",
      "    sconn(fd=-1, family=<AddressFamily.AF_INET: 2>, type=<SocketKind.SOCK_STREAM: 1>, laddr=addr(ip='127.0.0.1', port=1120), raddr=addr(ip='127.0.0.1', port=55420), status='TIME_WAIT', pid=0),\n",
      "    sconn(fd=-1, family=<AddressFamily.AF_INET: 2>, type=<SocketKind.SOCK_DGRAM: 2>, laddr=addr(ip='192.168.102.1', port=53729), raddr=(), status='NONE', pid=28024),\n",
      "    sconn(fd=-1, family=<AddressFamily.AF_INET6: 23>, type=<SocketKind.SOCK_DGRAM: 2>, laddr=addr(ip='::', port=5353), raddr=(), status='NONE', pid=9480),\n",
      "    sconn(fd=-1, family=<AddressFamily.AF_INET: 2>, type=<SocketKind.SOCK_STREAM: 1>, laddr=addr(ip='127.0.0.1', port=55560), raddr=addr(ip='127.0.0.1', port=49350), status='TIME_WAIT', pid=0),\n",
      "    sconn(fd=-1, family=<AddressFamily.AF_INET: 2>, type=<SocketKind.SOCK_DGRAM: 2>, laddr=addr(ip='127.0.0.1', port=51489), raddr=(), status='NONE', pid=26280),\n",
      "    sconn(fd=-1, family=<AddressFamily.AF_INET: 2>, type=<SocketKind.SOCK_STREAM: 1>, laddr=addr(ip='127.0.0.1', port=52696), raddr=addr(ip='127.0.0.1', port=6000), status='ESTABLISHED', pid=25240),\n",
      "    sconn(fd=-1, family=<AddressFamily.AF_INET: 2>, type=<SocketKind.SOCK_STREAM: 1>, laddr=addr(ip='127.0.0.1', port=49687), raddr=addr(ip='127.0.0.1', port=49685), status='ESTABLISHED', pid=27140),\n",
      "    sconn(fd=-1, family=<AddressFamily.AF_INET: 2>, type=<SocketKind.SOCK_STREAM: 1>, laddr=addr(ip='127.0.0.1', port=53902), raddr=addr(ip='127.0.0.1', port=53903), status='ESTABLISHED', pid=29780),\n",
      "    sconn(fd=-1, family=<AddressFamily.AF_INET: 2>, type=<SocketKind.SOCK_STREAM: 1>, laddr=addr(ip='127.0.0.1', port=55624), raddr=addr(ip='127.0.0.1', port=49350), status='TIME_WAIT', pid=0),\n",
      "    sconn(fd=-1, family=<AddressFamily.AF_INET6: 23>, type=<SocketKind.SOCK_STREAM: 1>, laddr=addr(ip='::', port=49669), raddr=(), status='LISTEN', pid=3480),\n",
      "    sconn(fd=-1, family=<AddressFamily.AF_INET: 2>, type=<SocketKind.SOCK_DGRAM: 2>, laddr=addr(ip='192.168.56.1', port=138), raddr=(), status='NONE', pid=4),\n",
      "    sconn(fd=-1, family=<AddressFamily.AF_INET: 2>, type=<SocketKind.SOCK_DGRAM: 2>, laddr=addr(ip='0.0.0.0', port=3389), raddr=(), status='NONE', pid=1396),\n",
      "    sconn(fd=-1, family=<AddressFamily.AF_INET: 2>, type=<SocketKind.SOCK_STREAM: 1>, laddr=addr(ip='127.0.0.1', port=55411), raddr=addr(ip='127.0.0.1', port=55412), status='ESTABLISHED', pid=29780),\n",
      "    sconn(fd=-1, family=<AddressFamily.AF_INET: 2>, type=<SocketKind.SOCK_STREAM: 1>, laddr=addr(ip='127.0.0.1', port=59501), raddr=addr(ip='127.0.0.1', port=59502), status='ESTABLISHED', pid=18164),\n",
      "    sconn(fd=-1, family=<AddressFamily.AF_INET: 2>, type=<SocketKind.SOCK_STREAM: 1>, laddr=addr(ip='127.0.0.1', port=53938), raddr=addr(ip='127.0.0.1', port=53939), status='ESTABLISHED', pid=29780),\n",
      "    sconn(fd=-1, family=<AddressFamily.AF_INET: 2>, type=<SocketKind.SOCK_STREAM: 1>, laddr=addr(ip='127.0.0.1', port=9008), raddr=(), status='LISTEN', pid=29780),\n",
      "    sconn(fd=-1, family=<AddressFamily.AF_INET6: 23>, type=<SocketKind.SOCK_DGRAM: 2>, laddr=addr(ip='fe80::5bf6:6308:b79f:2cf9', port=1900), raddr=(), status='NONE', pid=4104),\n",
      "    sconn(fd=-1, family=<AddressFamily.AF_INET: 2>, type=<SocketKind.SOCK_STREAM: 1>, laddr=addr(ip='127.0.0.1', port=9011), raddr=(), status='LISTEN', pid=29780),\n",
      "    sconn(fd=-1, family=<AddressFamily.AF_INET: 2>, type=<SocketKind.SOCK_DGRAM: 2>, laddr=addr(ip='127.0.0.1', port=57874), raddr=(), status='NONE', pid=3232),\n",
      "    sconn(fd=-1, family=<AddressFamily.AF_INET: 2>, type=<SocketKind.SOCK_DGRAM: 2>, laddr=addr(ip='0.0.0.0', port=60886), raddr=(), status='NONE', pid=3952),\n",
      "    sconn(fd=-1, family=<AddressFamily.AF_INET: 2>, type=<SocketKind.SOCK_STREAM: 1>, laddr=addr(ip='127.0.0.1', port=53921), raddr=addr(ip='127.0.0.1', port=53920), status='ESTABLISHED', pid=28808),\n",
      "    sconn(fd=-1, family=<AddressFamily.AF_INET: 2>, type=<SocketKind.SOCK_STREAM: 1>, laddr=addr(ip='127.0.0.1', port=28390), raddr=(), status='LISTEN', pid=4),\n",
      "    sconn(fd=-1, family=<AddressFamily.AF_INET: 2>, type=<SocketKind.SOCK_STREAM: 1>, laddr=addr(ip='0.0.0.0', port=49672), raddr=(), status='LISTEN', pid=672),\n",
      "    sconn(fd=-1, family=<AddressFamily.AF_INET: 2>, type=<SocketKind.SOCK_STREAM: 1>, laddr=addr(ip='127.0.0.1', port=28385), raddr=(), status='LISTEN', pid=4),\n",
      "    sconn(fd=-1, family=<AddressFamily.AF_INET: 2>, type=<SocketKind.SOCK_STREAM: 1>, laddr=addr(ip='127.0.0.1', port=53648), raddr=addr(ip='127.0.0.1', port=53649), status='ESTABLISHED', pid=10412),\n",
      "    sconn(fd=-1, family=<AddressFamily.AF_INET: 2>, type=<SocketKind.SOCK_STREAM: 1>, laddr=addr(ip='10.33.16.24', port=59097), raddr=addr(ip='52.207.24.88', port=80), status='ESTABLISHED', pid=18624),\n",
      "    sconn(fd=-1, family=<AddressFamily.AF_INET: 2>, type=<SocketKind.SOCK_STREAM: 1>, laddr=addr(ip='127.0.0.1', port=55405), raddr=addr(ip='127.0.0.1', port=55406), status='ESTABLISHED', pid=29780),\n",
      "    sconn(fd=-1, family=<AddressFamily.AF_INET: 2>, type=<SocketKind.SOCK_STREAM: 1>, laddr=addr(ip='127.0.0.1', port=1120), raddr=addr(ip='127.0.0.1', port=55496), status='TIME_WAIT', pid=0),\n",
      "    sconn(fd=-1, family=<AddressFamily.AF_INET: 2>, type=<SocketKind.SOCK_DGRAM: 2>, laddr=addr(ip='0.0.0.0', port=51486), raddr=(), status='NONE', pid=26280),\n",
      "    sconn(fd=-1, family=<AddressFamily.AF_INET: 2>, type=<SocketKind.SOCK_STREAM: 1>, laddr=addr(ip='127.0.0.1', port=3216), raddr=(), status='LISTEN', pid=18624),\n",
      "    sconn(fd=-1, family=<AddressFamily.AF_INET: 2>, type=<SocketKind.SOCK_STREAM: 1>, laddr=addr(ip='127.0.0.1', port=55407), raddr=addr(ip='127.0.0.1', port=55408), status='ESTABLISHED', pid=29780),\n",
      "    sconn(fd=-1, family=<AddressFamily.AF_INET: 2>, type=<SocketKind.SOCK_STREAM: 1>, laddr=addr(ip='127.0.0.1', port=53878), raddr=addr(ip='127.0.0.1', port=53877), status='ESTABLISHED', pid=29780),\n",
      "    sconn(fd=-1, family=<AddressFamily.AF_INET: 2>, type=<SocketKind.SOCK_STREAM: 1>, laddr=addr(ip='127.0.0.1', port=53883), raddr=addr(ip='127.0.0.1', port=53884), status='ESTABLISHED', pid=29780),\n",
      "    sconn(fd=-1, family=<AddressFamily.AF_INET: 2>, type=<SocketKind.SOCK_STREAM: 1>, laddr=addr(ip='127.0.0.1', port=53903), raddr=addr(ip='127.0.0.1', port=53902), status='ESTABLISHED', pid=29780),\n",
      "    sconn(fd=-1, family=<AddressFamily.AF_INET: 2>, type=<SocketKind.SOCK_STREAM: 1>, laddr=addr(ip='10.33.16.24', port=55506), raddr=addr(ip='23.36.168.147', port=443), status='ESTABLISHED', pid=17520),\n",
      "    sconn(fd=-1, family=<AddressFamily.AF_INET6: 23>, type=<SocketKind.SOCK_DGRAM: 2>, laddr=addr(ip='::', port=5355), raddr=(), status='NONE', pid=3108),\n",
      "    sconn(fd=-1, family=<AddressFamily.AF_INET: 2>, type=<SocketKind.SOCK_STREAM: 1>, laddr=addr(ip='127.0.0.1', port=55502), raddr=addr(ip='127.0.0.1', port=49350), status='TIME_WAIT', pid=0),\n",
      "    sconn(fd=-1, family=<AddressFamily.AF_INET: 2>, type=<SocketKind.SOCK_STREAM: 1>, laddr=addr(ip='127.0.0.1', port=53929), raddr=addr(ip='127.0.0.1', port=9010), status='ESTABLISHED', pid=28808),\n",
      "    sconn(fd=-1, family=<AddressFamily.AF_INET: 2>, type=<SocketKind.SOCK_STREAM: 1>, laddr=addr(ip='127.0.0.1', port=65001), raddr=addr(ip='127.0.0.1', port=59606), status='ESTABLISHED', pid=3952),\n",
      "    sconn(fd=-1, family=<AddressFamily.AF_INET6: 23>, type=<SocketKind.SOCK_DGRAM: 2>, laddr=addr(ip='::1', port=5353), raddr=(), status='NONE', pid=3952),\n",
      "    sconn(fd=-1, family=<AddressFamily.AF_INET: 2>, type=<SocketKind.SOCK_STREAM: 1>, laddr=addr(ip='127.0.0.1', port=1120), raddr=addr(ip='127.0.0.1', port=55605), status='TIME_WAIT', pid=0),\n",
      "    sconn(fd=-1, family=<AddressFamily.AF_INET: 2>, type=<SocketKind.SOCK_STREAM: 1>, laddr=addr(ip='10.0.0.1', port=139), raddr=(), status='LISTEN', pid=4),\n",
      "    sconn(fd=-1, family=<AddressFamily.AF_INET: 2>, type=<SocketKind.SOCK_STREAM: 1>, laddr=addr(ip='127.0.0.1', port=1120), raddr=addr(ip='127.0.0.1', port=55520), status='TIME_WAIT', pid=0),\n",
      "    sconn(fd=-1, family=<AddressFamily.AF_INET: 2>, type=<SocketKind.SOCK_STREAM: 1>, laddr=addr(ip='10.33.16.24', port=53433), raddr=addr(ip='142.250.179.227', port=443), status='ESTABLISHED', pid=4328),\n",
      "    sconn(fd=-1, family=<AddressFamily.AF_INET: 2>, type=<SocketKind.SOCK_STREAM: 1>, laddr=addr(ip='127.0.0.1', port=65001), raddr=(), status='LISTEN', pid=3952),\n",
      "    sconn(fd=-1, family=<AddressFamily.AF_INET: 2>, type=<SocketKind.SOCK_STREAM: 1>, laddr=addr(ip='127.0.0.1', port=55464), raddr=addr(ip='127.0.0.1', port=49350), status='TIME_WAIT', pid=0),\n",
      "    sconn(fd=-1, family=<AddressFamily.AF_INET6: 23>, type=<SocketKind.SOCK_DGRAM: 2>, laddr=addr(ip='fe80::d5e9:c7cc:fd0f:a5e9', port=1900), raddr=(), status='NONE', pid=4104),\n",
      "    sconn(fd=-1, family=<AddressFamily.AF_INET: 2>, type=<SocketKind.SOCK_STREAM: 1>, laddr=addr(ip='127.0.0.1', port=53562), raddr=addr(ip='127.0.0.1', port=53563), status='ESTABLISHED', pid=13680),\n",
      "    sconn(fd=-1, family=<AddressFamily.AF_INET: 2>, type=<SocketKind.SOCK_STREAM: 1>, laddr=addr(ip='127.0.0.1', port=53945), raddr=addr(ip='127.0.0.1', port=53944), status='ESTABLISHED', pid=1512),\n",
      "    sconn(fd=-1, family=<AddressFamily.AF_INET: 2>, type=<SocketKind.SOCK_STREAM: 1>, laddr=addr(ip='127.0.0.1', port=55455), raddr=addr(ip='127.0.0.1', port=1120), status='TIME_WAIT', pid=0),\n",
      "    sconn(fd=-1, family=<AddressFamily.AF_INET: 2>, type=<SocketKind.SOCK_STREAM: 1>, laddr=addr(ip='127.0.0.1', port=53912), raddr=addr(ip='127.0.0.1', port=53913), status='ESTABLISHED', pid=29780),\n",
      "    sconn(fd=-1, family=<AddressFamily.AF_INET: 2>, type=<SocketKind.SOCK_STREAM: 1>, laddr=addr(ip='127.0.0.1', port=53937), raddr=addr(ip='127.0.0.1', port=9011), status='ESTABLISHED', pid=28808),\n",
      "    sconn(fd=-1, family=<AddressFamily.AF_INET: 2>, type=<SocketKind.SOCK_STREAM: 1>, laddr=addr(ip='127.0.0.1', port=54147), raddr=addr(ip='127.0.0.1', port=54146), status='ESTABLISHED', pid=30360),\n",
      "    sconn(fd=-1, family=<AddressFamily.AF_INET: 2>, type=<SocketKind.SOCK_STREAM: 1>, laddr=addr(ip='0.0.0.0', port=912), raddr=(), status='LISTEN', pid=4668),\n",
      "    sconn(fd=-1, family=<AddressFamily.AF_INET: 2>, type=<SocketKind.SOCK_DGRAM: 2>, laddr=addr(ip='0.0.0.0', port=1100), raddr=(), status='NONE', pid=9632),\n",
      "    sconn(fd=-1, family=<AddressFamily.AF_INET: 2>, type=<SocketKind.SOCK_STREAM: 1>, laddr=addr(ip='10.33.16.24', port=56327), raddr=addr(ip='13.107.138.8', port=443), status='ESTABLISHED', pid=20344),\n",
      "    sconn(fd=-1, family=<AddressFamily.AF_INET: 2>, type=<SocketKind.SOCK_DGRAM: 2>, laddr=addr(ip='10.33.16.24', port=1900), raddr=(), status='NONE', pid=4104),\n",
      "    sconn(fd=-1, family=<AddressFamily.AF_INET6: 23>, type=<SocketKind.SOCK_DGRAM: 2>, laddr=addr(ip='::', port=3389), raddr=(), status='NONE', pid=1396),\n",
      "    sconn(fd=-1, family=<AddressFamily.AF_INET: 2>, type=<SocketKind.SOCK_STREAM: 1>, laddr=addr(ip='127.0.0.1', port=53888), raddr=addr(ip='127.0.0.1', port=53889), status='ESTABLISHED', pid=29780),\n",
      "    sconn(fd=-1, family=<AddressFamily.AF_INET: 2>, type=<SocketKind.SOCK_STREAM: 1>, laddr=addr(ip='127.0.0.1', port=53581), raddr=(), status='LISTEN', pid=13680),\n",
      "    sconn(fd=-1, family=<AddressFamily.AF_INET: 2>, type=<SocketKind.SOCK_DGRAM: 2>, laddr=addr(ip='0.0.0.0', port=5353), raddr=(), status='NONE', pid=28024),\n",
      "    sconn(fd=-1, family=<AddressFamily.AF_INET: 2>, type=<SocketKind.SOCK_STREAM: 1>, laddr=addr(ip='127.0.0.1', port=53944), raddr=addr(ip='127.0.0.1', port=53945), status='ESTABLISHED', pid=1512),\n",
      "    sconn(fd=-1, family=<AddressFamily.AF_INET: 2>, type=<SocketKind.SOCK_DGRAM: 2>, laddr=addr(ip='192.168.56.1', port=53725), raddr=(), status='NONE', pid=28024),\n",
      "    sconn(fd=-1, family=<AddressFamily.AF_INET: 2>, type=<SocketKind.SOCK_STREAM: 1>, laddr=addr(ip='127.0.0.1', port=22885), raddr=(), status='LISTEN', pid=18164),\n",
      "    sconn(fd=-1, family=<AddressFamily.AF_INET: 2>, type=<SocketKind.SOCK_STREAM: 1>, laddr=addr(ip='10.33.16.24', port=50137), raddr=addr(ip='104.95.180.24', port=443), status='CLOSE_WAIT', pid=25048),\n",
      "    sconn(fd=-1, family=<AddressFamily.AF_INET: 2>, type=<SocketKind.SOCK_DGRAM: 2>, laddr=addr(ip='127.0.0.1', port=61150), raddr=(), status='NONE', pid=20188),\n",
      "    sconn(fd=-1, family=<AddressFamily.AF_INET: 2>, type=<SocketKind.SOCK_STREAM: 1>, laddr=addr(ip='127.0.0.1', port=55460), raddr=addr(ip='127.0.0.1', port=1120), status='TIME_WAIT', pid=0),\n",
      "    sconn(fd=-1, family=<AddressFamily.AF_INET: 2>, type=<SocketKind.SOCK_STREAM: 1>, laddr=addr(ip='10.33.16.24', port=55618), raddr=addr(ip='35.213.200.206', port=443), status='ESTABLISHED', pid=4328),\n",
      "    sconn(fd=-1, family=<AddressFamily.AF_INET: 2>, type=<SocketKind.SOCK_DGRAM: 2>, laddr=addr(ip='192.168.153.1', port=137), raddr=(), status='NONE', pid=4),\n",
      "    sconn(fd=-1, family=<AddressFamily.AF_INET: 2>, type=<SocketKind.SOCK_STREAM: 1>, laddr=addr(ip='127.0.0.1', port=1120), raddr=addr(ip='127.0.0.1', port=55575), status='TIME_WAIT', pid=0),\n",
      "    sconn(fd=-1, family=<AddressFamily.AF_INET: 2>, type=<SocketKind.SOCK_STREAM: 1>, laddr=addr(ip='127.0.0.1', port=1120), raddr=addr(ip='127.0.0.1', port=55546), status='TIME_WAIT', pid=0),\n",
      "    sconn(fd=-1, family=<AddressFamily.AF_INET: 2>, type=<SocketKind.SOCK_STREAM: 1>, laddr=addr(ip='127.0.0.1', port=1120), raddr=addr(ip='127.0.0.1', port=55461), status='TIME_WAIT', pid=0),\n",
      "    sconn(fd=-1, family=<AddressFamily.AF_INET: 2>, type=<SocketKind.SOCK_STREAM: 1>, laddr=addr(ip='127.0.0.1', port=55500), raddr=addr(ip='127.0.0.1', port=49350), status='TIME_WAIT', pid=0),\n",
      "    sconn(fd=-1, family=<AddressFamily.AF_INET: 2>, type=<SocketKind.SOCK_STREAM: 1>, laddr=addr(ip='127.0.0.1', port=53898), raddr=addr(ip='127.0.0.1', port=53897), status='ESTABLISHED', pid=29780),\n",
      "    sconn(fd=-1, family=<AddressFamily.AF_INET: 2>, type=<SocketKind.SOCK_STREAM: 1>, laddr=addr(ip='127.0.0.1', port=55403), raddr=addr(ip='127.0.0.1', port=55404), status='ESTABLISHED', pid=29780),\n",
      "    sconn(fd=-1, family=<AddressFamily.AF_INET: 2>, type=<SocketKind.SOCK_STREAM: 1>, laddr=addr(ip='127.0.0.1', port=1120), raddr=addr(ip='127.0.0.1', port=55483), status='TIME_WAIT', pid=0),\n",
      "    sconn(fd=-1, family=<AddressFamily.AF_INET: 2>, type=<SocketKind.SOCK_STREAM: 1>, laddr=addr(ip='127.0.0.1', port=55501), raddr=addr(ip='127.0.0.1', port=49350), status='TIME_WAIT', pid=0),\n",
      "    sconn(fd=-1, family=<AddressFamily.AF_INET: 2>, type=<SocketKind.SOCK_STREAM: 1>, laddr=addr(ip='127.0.0.1', port=49351), raddr=(), status='LISTEN', pid=23416),\n",
      "    sconn(fd=-1, family=<AddressFamily.AF_INET: 2>, type=<SocketKind.SOCK_STREAM: 1>, laddr=addr(ip='10.33.16.24', port=55477), raddr=addr(ip='23.36.168.147', port=443), status='ESTABLISHED', pid=18624),\n",
      "    sconn(fd=-1, family=<AddressFamily.AF_INET: 2>, type=<SocketKind.SOCK_STREAM: 1>, laddr=addr(ip='127.0.0.1', port=55498), raddr=addr(ip='127.0.0.1', port=1120), status='TIME_WAIT', pid=0),\n",
      "    sconn(fd=-1, family=<AddressFamily.AF_INET: 2>, type=<SocketKind.SOCK_STREAM: 1>, laddr=addr(ip='127.0.0.1', port=55563), raddr=addr(ip='127.0.0.1', port=49350), status='TIME_WAIT', pid=0),\n",
      "    sconn(fd=-1, family=<AddressFamily.AF_INET: 2>, type=<SocketKind.SOCK_STREAM: 1>, laddr=addr(ip='127.0.0.1', port=53889), raddr=addr(ip='127.0.0.1', port=53888), status='ESTABLISHED', pid=29780),\n",
      "    sconn(fd=-1, family=<AddressFamily.AF_INET: 2>, type=<SocketKind.SOCK_STREAM: 1>, laddr=addr(ip='127.0.0.1', port=53901), raddr=(), status='LISTEN', pid=29780),\n",
      "    sconn(fd=-1, family=<AddressFamily.AF_INET: 2>, type=<SocketKind.SOCK_STREAM: 1>, laddr=addr(ip='127.0.0.1', port=53890), raddr=addr(ip='127.0.0.1', port=53891), status='ESTABLISHED', pid=29780),\n",
      "    sconn(fd=-1, family=<AddressFamily.AF_INET: 2>, type=<SocketKind.SOCK_DGRAM: 2>, laddr=addr(ip='0.0.0.0', port=500), raddr=(), status='NONE', pid=3628),\n",
      "    sconn(fd=-1, family=<AddressFamily.AF_INET: 2>, type=<SocketKind.SOCK_STREAM: 1>, laddr=addr(ip='127.0.0.1', port=1120), raddr=addr(ip='127.0.0.1', port=55588), status='TIME_WAIT', pid=0),\n",
      "    sconn(fd=-1, family=<AddressFamily.AF_INET: 2>, type=<SocketKind.SOCK_STREAM: 1>, laddr=addr(ip='127.0.0.1', port=58728), raddr=(), status='LISTEN', pid=1412),\n",
      "    sconn(fd=-1, family=<AddressFamily.AF_INET: 2>, type=<SocketKind.SOCK_STREAM: 1>, laddr=addr(ip='0.0.0.0', port=3389), raddr=(), status='LISTEN', pid=1396),\n",
      "    sconn(fd=-1, family=<AddressFamily.AF_INET: 2>, type=<SocketKind.SOCK_STREAM: 1>, laddr=addr(ip='127.0.0.1', port=55569), raddr=addr(ip='127.0.0.1', port=59149), status='TIME_WAIT', pid=0),\n",
      "    sconn(fd=-1, family=<AddressFamily.AF_INET: 2>, type=<SocketKind.SOCK_STREAM: 1>, laddr=addr(ip='10.33.16.24', port=54833), raddr=addr(ip='52.108.88.1', port=443), status='ESTABLISHED', pid=20188),\n",
      "    sconn(fd=-1, family=<AddressFamily.AF_INET: 2>, type=<SocketKind.SOCK_STREAM: 1>, laddr=addr(ip='127.0.0.1', port=64647), raddr=addr(ip='127.0.0.1', port=64644), status='ESTABLISHED', pid=28972),\n",
      "    sconn(fd=-1, family=<AddressFamily.AF_INET: 2>, type=<SocketKind.SOCK_STREAM: 1>, laddr=addr(ip='127.0.0.1', port=1120), raddr=addr(ip='127.0.0.1', port=55469), status='TIME_WAIT', pid=0),\n",
      "    sconn(fd=-1, family=<AddressFamily.AF_INET: 2>, type=<SocketKind.SOCK_STREAM: 1>, laddr=addr(ip='10.0.0.1', port=55074), raddr=addr(ip='10.0.0.11', port=6080), status='ESTABLISHED', pid=4328),\n",
      "    sconn(fd=-1, family=<AddressFamily.AF_INET: 2>, type=<SocketKind.SOCK_STREAM: 1>, laddr=addr(ip='127.0.0.1', port=53893), raddr=addr(ip='127.0.0.1', port=53894), status='ESTABLISHED', pid=29780),\n",
      "    sconn(fd=-1, family=<AddressFamily.AF_INET: 2>, type=<SocketKind.SOCK_STREAM: 1>, laddr=addr(ip='127.0.0.1', port=49530), raddr=addr(ip='127.0.0.1', port=49529), status='ESTABLISHED', pid=26280),\n",
      "    sconn(fd=-1, family=<AddressFamily.AF_INET: 2>, type=<SocketKind.SOCK_STREAM: 1>, laddr=addr(ip='10.0.0.1', port=54970), raddr=addr(ip='10.0.0.11', port=6080), status='ESTABLISHED', pid=4328),\n",
      "    sconn(fd=-1, family=<AddressFamily.AF_INET: 2>, type=<SocketKind.SOCK_STREAM: 1>, laddr=addr(ip='127.0.0.1', port=55445), raddr=addr(ip='127.0.0.1', port=49350), status='TIME_WAIT', pid=0),\n",
      "    sconn(fd=-1, family=<AddressFamily.AF_INET: 2>, type=<SocketKind.SOCK_STREAM: 1>, laddr=addr(ip='127.0.0.1', port=64644), raddr=(), status='LISTEN', pid=17112),\n",
      "    sconn(fd=-1, family=<AddressFamily.AF_INET: 2>, type=<SocketKind.SOCK_STREAM: 1>, laddr=addr(ip='127.0.0.1', port=55525), raddr=addr(ip='127.0.0.1', port=49350), status='TIME_WAIT', pid=0),\n",
      "    sconn(fd=-1, family=<AddressFamily.AF_INET: 2>, type=<SocketKind.SOCK_STREAM: 1>, laddr=addr(ip='127.0.0.1', port=3215), raddr=(), status='LISTEN', pid=18624),\n",
      "    sconn(fd=-1, family=<AddressFamily.AF_INET: 2>, type=<SocketKind.SOCK_DGRAM: 2>, laddr=addr(ip='10.33.16.24', port=137), raddr=(), status='NONE', pid=4),\n",
      "    sconn(fd=-1, family=<AddressFamily.AF_INET: 2>, type=<SocketKind.SOCK_STREAM: 1>, laddr=addr(ip='127.0.0.1', port=52717), raddr=addr(ip='127.0.0.1', port=52716), status='ESTABLISHED', pid=28808),\n",
      "    sconn(fd=-1, family=<AddressFamily.AF_INET: 2>, type=<SocketKind.SOCK_STREAM: 1>, laddr=addr(ip='10.0.0.1', port=54971), raddr=addr(ip='10.0.0.11', port=6080), status='ESTABLISHED', pid=4328),\n",
      "    sconn(fd=-1, family=<AddressFamily.AF_INET: 2>, type=<SocketKind.SOCK_STREAM: 1>, laddr=addr(ip='127.0.0.1', port=53927), raddr=addr(ip='127.0.0.1', port=53928), status='ESTABLISHED', pid=28808),\n",
      "    sconn(fd=-1, family=<AddressFamily.AF_INET: 2>, type=<SocketKind.SOCK_STREAM: 1>, laddr=addr(ip='10.33.16.24', port=55371), raddr=addr(ip='142.250.200.3', port=443), status='ESTABLISHED', pid=4328),\n",
      "    sconn(fd=-1, family=<AddressFamily.AF_INET: 2>, type=<SocketKind.SOCK_STREAM: 1>, laddr=addr(ip='10.33.16.24', port=55480), raddr=addr(ip='52.178.17.2', port=443), status='TIME_WAIT', pid=0),\n",
      "    sconn(fd=-1, family=<AddressFamily.AF_INET: 2>, type=<SocketKind.SOCK_STREAM: 1>, laddr=addr(ip='10.33.16.24', port=55620), raddr=addr(ip='35.213.200.206', port=443), status='ESTABLISHED', pid=4328),\n",
      "    sconn(fd=-1, family=<AddressFamily.AF_INET6: 23>, type=<SocketKind.SOCK_DGRAM: 2>, laddr=addr(ip='::', port=4500), raddr=(), status='NONE', pid=3628),\n",
      "    sconn(fd=-1, family=<AddressFamily.AF_INET: 2>, type=<SocketKind.SOCK_STREAM: 1>, laddr=addr(ip='0.0.0.0', port=49664), raddr=(), status='LISTEN', pid=660),\n",
      "    sconn(fd=-1, family=<AddressFamily.AF_INET6: 23>, type=<SocketKind.SOCK_DGRAM: 2>, laddr=addr(ip='::1', port=56472), raddr=(), status='NONE', pid=4104),\n",
      "    sconn(fd=-1, family=<AddressFamily.AF_INET: 2>, type=<SocketKind.SOCK_STREAM: 1>, laddr=addr(ip='127.0.0.1', port=9011), raddr=addr(ip='127.0.0.1', port=53937), status='ESTABLISHED', pid=29780),\n",
      "    sconn(fd=-1, family=<AddressFamily.AF_INET: 2>, type=<SocketKind.SOCK_STREAM: 1>, laddr=addr(ip='127.0.0.1', port=53886), raddr=addr(ip='127.0.0.1', port=53887), status='ESTABLISHED', pid=29780),\n",
      "    sconn(fd=-1, family=<AddressFamily.AF_INET: 2>, type=<SocketKind.SOCK_STREAM: 1>, laddr=addr(ip='10.33.16.24', port=55547), raddr=addr(ip='52.178.17.2', port=443), status='TIME_WAIT', pid=0),\n",
      "    sconn(fd=-1, family=<AddressFamily.AF_INET: 2>, type=<SocketKind.SOCK_DGRAM: 2>, laddr=addr(ip='0.0.0.0', port=53976), raddr=(), status='NONE', pid=18624),\n",
      "    sconn(fd=-1, family=<AddressFamily.AF_INET: 2>, type=<SocketKind.SOCK_STREAM: 1>, laddr=addr(ip='127.0.0.1', port=49529), raddr=addr(ip='127.0.0.1', port=49530), status='ESTABLISHED', pid=26280),\n",
      "    sconn(fd=-1, family=<AddressFamily.AF_INET: 2>, type=<SocketKind.SOCK_STREAM: 1>, laddr=addr(ip='127.0.0.1', port=55562), raddr=addr(ip='127.0.0.1', port=49350), status='TIME_WAIT', pid=0),\n",
      "    sconn(fd=-1, family=<AddressFamily.AF_INET: 2>, type=<SocketKind.SOCK_STREAM: 1>, laddr=addr(ip='127.0.0.1', port=52695), raddr=addr(ip='127.0.0.1', port=6000), status='ESTABLISHED', pid=25240),\n",
      "    sconn(fd=-1, family=<AddressFamily.AF_INET: 2>, type=<SocketKind.SOCK_STREAM: 1>, laddr=addr(ip='10.33.16.24', port=60136), raddr=addr(ip='173.194.76.188', port=5228), status='ESTABLISHED', pid=4328),\n",
      "    sconn(fd=-1, family=<AddressFamily.AF_INET: 2>, type=<SocketKind.SOCK_DGRAM: 2>, laddr=addr(ip='0.0.0.0', port=62855), raddr=(), status='NONE', pid=16000),\n",
      "    sconn(fd=-1, family=<AddressFamily.AF_INET: 2>, type=<SocketKind.SOCK_STREAM: 1>, laddr=addr(ip='10.33.16.24', port=55375), raddr=addr(ip='52.105.155.55', port=443), status='ESTABLISHED', pid=20188),\n",
      "    sconn(fd=-1, family=<AddressFamily.AF_INET: 2>, type=<SocketKind.SOCK_STREAM: 1>, laddr=addr(ip='127.0.0.1', port=54144), raddr=addr(ip='127.0.0.1', port=54145), status='ESTABLISHED', pid=30360),\n",
      "    sconn(fd=-1, family=<AddressFamily.AF_INET6: 23>, type=<SocketKind.SOCK_DGRAM: 2>, laddr=addr(ip='fe80::7f3:af2:d579:c077', port=1900), raddr=(), status='NONE', pid=4104),\n",
      "    sconn(fd=-1, family=<AddressFamily.AF_INET: 2>, type=<SocketKind.SOCK_STREAM: 1>, laddr=addr(ip='127.0.0.1', port=6000), raddr=addr(ip='127.0.0.1', port=52697), status='ESTABLISHED', pid=25240),\n",
      "    sconn(fd=-1, family=<AddressFamily.AF_INET: 2>, type=<SocketKind.SOCK_STREAM: 1>, laddr=addr(ip='127.0.0.1', port=1120), raddr=addr(ip='127.0.0.1', port=55579), status='TIME_WAIT', pid=0),\n",
      "    sconn(fd=-1, family=<AddressFamily.AF_INET: 2>, type=<SocketKind.SOCK_STREAM: 1>, laddr=addr(ip='127.0.0.1', port=59218), raddr=addr(ip='127.0.0.1', port=59217), status='ESTABLISHED', pid=4756),\n",
      "    sconn(fd=-1, family=<AddressFamily.AF_INET6: 23>, type=<SocketKind.SOCK_STREAM: 1>, laddr=addr(ip='::', port=49671), raddr=(), status='LISTEN', pid=3636),\n",
      "    sconn(fd=-1, family=<AddressFamily.AF_INET: 2>, type=<SocketKind.SOCK_STREAM: 1>, laddr=addr(ip='10.33.16.24', port=54158), raddr=addr(ip='140.82.113.25', port=443), status='ESTABLISHED', pid=4328),\n",
      "    sconn(fd=-1, family=<AddressFamily.AF_INET: 2>, type=<SocketKind.SOCK_DGRAM: 2>, laddr=addr(ip='0.0.0.0', port=51482), raddr=(), status='NONE', pid=26280),\n",
      "    sconn(fd=-1, family=<AddressFamily.AF_INET: 2>, type=<SocketKind.SOCK_STREAM: 1>, laddr=addr(ip='0.0.0.0', port=135), raddr=(), status='LISTEN', pid=1120),\n",
      "    sconn(fd=-1, family=<AddressFamily.AF_INET: 2>, type=<SocketKind.SOCK_DGRAM: 2>, laddr=addr(ip='192.168.56.1', port=5353), raddr=(), status='NONE', pid=3952),\n",
      "    sconn(fd=-1, family=<AddressFamily.AF_INET: 2>, type=<SocketKind.SOCK_STREAM: 1>, laddr=addr(ip='127.0.0.1', port=49527), raddr=addr(ip='127.0.0.1', port=49528), status='ESTABLISHED', pid=26280),\n",
      "    sconn(fd=-1, family=<AddressFamily.AF_INET: 2>, type=<SocketKind.SOCK_STREAM: 1>, laddr=addr(ip='0.0.0.0', port=5040), raddr=(), status='LISTEN', pid=8272),\n",
      "    sconn(fd=-1, family=<AddressFamily.AF_INET6: 23>, type=<SocketKind.SOCK_DGRAM: 2>, laddr=addr(ip='fe80::5271:6a56:bf05:3a3d', port=1900), raddr=(), status='NONE', pid=4104),\n",
      "    sconn(fd=-1, family=<AddressFamily.AF_INET: 2>, type=<SocketKind.SOCK_STREAM: 1>, laddr=addr(ip='127.0.0.1', port=53931), raddr=addr(ip='127.0.0.1', port=53930), status='ESTABLISHED', pid=28808),\n",
      "    sconn(fd=-1, family=<AddressFamily.AF_INET: 2>, type=<SocketKind.SOCK_STREAM: 1>, laddr=addr(ip='127.0.0.1', port=1120), raddr=addr(ip='127.0.0.1', port=55593), status='TIME_WAIT', pid=0),\n",
      "    sconn(fd=-1, family=<AddressFamily.AF_INET: 2>, type=<SocketKind.SOCK_DGRAM: 2>, laddr=addr(ip='127.0.0.1', port=51485), raddr=(), status='NONE', pid=26280),\n",
      "    sconn(fd=-1, family=<AddressFamily.AF_INET: 2>, type=<SocketKind.SOCK_STREAM: 1>, laddr=addr(ip='10.33.16.24', port=53197), raddr=addr(ip='172.217.169.10', port=443), status='ESTABLISHED', pid=4328),\n",
      "    sconn(fd=-1, family=<AddressFamily.AF_INET: 2>, type=<SocketKind.SOCK_STREAM: 1>, laddr=addr(ip='127.0.0.1', port=58728), raddr=addr(ip='127.0.0.1', port=58779), status='ESTABLISHED', pid=1412),\n",
      "    sconn(fd=-1, family=<AddressFamily.AF_INET: 2>, type=<SocketKind.SOCK_STREAM: 1>, laddr=addr(ip='127.0.0.1', port=64644), raddr=addr(ip='127.0.0.1', port=64647), status='ESTABLISHED', pid=17112),\n",
      "    sconn(fd=-1, family=<AddressFamily.AF_INET: 2>, type=<SocketKind.SOCK_DGRAM: 2>, laddr=addr(ip='192.168.56.1', port=137), raddr=(), status='NONE', pid=4),\n",
      "    sconn(fd=-1, family=<AddressFamily.AF_INET: 2>, type=<SocketKind.SOCK_STREAM: 1>, laddr=addr(ip='127.0.0.1', port=55572), raddr=addr(ip='127.0.0.1', port=49350), status='TIME_WAIT', pid=0),\n",
      "    sconn(fd=-1, family=<AddressFamily.AF_INET: 2>, type=<SocketKind.SOCK_STREAM: 1>, laddr=addr(ip='127.0.0.1', port=53919), raddr=addr(ip='127.0.0.1', port=53918), status='ESTABLISHED', pid=28808),\n",
      "    sconn(fd=-1, family=<AddressFamily.AF_INET: 2>, type=<SocketKind.SOCK_STREAM: 1>, laddr=addr(ip='10.33.16.24', port=62250), raddr=addr(ip='20.90.153.243', port=443), status='ESTABLISHED', pid=3924),\n",
      "    sconn(fd=-1, family=<AddressFamily.AF_INET: 2>, type=<SocketKind.SOCK_DGRAM: 2>, laddr=addr(ip='0.0.0.0', port=5353), raddr=(), status='NONE', pid=3108),\n",
      "    sconn(fd=-1, family=<AddressFamily.AF_INET: 2>, type=<SocketKind.SOCK_STREAM: 1>, laddr=addr(ip='127.0.0.1', port=1120), raddr=addr(ip='127.0.0.1', port=55552), status='TIME_WAIT', pid=0),\n",
      "    sconn(fd=-1, family=<AddressFamily.AF_INET: 2>, type=<SocketKind.SOCK_STREAM: 1>, laddr=addr(ip='127.0.0.1', port=9010), raddr=addr(ip='127.0.0.1', port=53929), status='ESTABLISHED', pid=29780),\n",
      "    sconn(fd=-1, family=<AddressFamily.AF_INET: 2>, type=<SocketKind.SOCK_DGRAM: 2>, laddr=addr(ip='192.168.102.1', port=138), raddr=(), status='NONE', pid=4),\n",
      "    sconn(fd=-1, family=<AddressFamily.AF_INET: 2>, type=<SocketKind.SOCK_STREAM: 1>, laddr=addr(ip='127.0.0.1', port=53879), raddr=addr(ip='127.0.0.1', port=53880), status='ESTABLISHED', pid=29780),\n",
      "    sconn(fd=-1, family=<AddressFamily.AF_INET: 2>, type=<SocketKind.SOCK_STREAM: 1>, laddr=addr(ip='10.33.16.24', port=55554), raddr=addr(ip='35.186.224.25', port=443), status='ESTABLISHED', pid=5920),\n",
      "    sconn(fd=-1, family=<AddressFamily.AF_INET6: 23>, type=<SocketKind.SOCK_STREAM: 1>, laddr=addr(ip='::1', port=49701), raddr=addr(ip='::1', port=49702), status='ESTABLISHED', pid=25048),\n",
      "    sconn(fd=-1, family=<AddressFamily.AF_INET: 2>, type=<SocketKind.SOCK_STREAM: 1>, laddr=addr(ip='127.0.0.1', port=55449), raddr=addr(ip='127.0.0.1', port=49350), status='TIME_WAIT', pid=0),\n",
      "    sconn(fd=-1, family=<AddressFamily.AF_INET: 2>, type=<SocketKind.SOCK_STREAM: 1>, laddr=addr(ip='127.0.0.1', port=1120), raddr=addr(ip='127.0.0.1', port=55460), status='TIME_WAIT', pid=0),\n",
      "    sconn(fd=-1, family=<AddressFamily.AF_INET: 2>, type=<SocketKind.SOCK_STREAM: 1>, laddr=addr(ip='10.33.16.24', port=52117), raddr=addr(ip='172.217.169.78', port=443), status='ESTABLISHED', pid=4328),\n",
      "    sconn(fd=-1, family=<AddressFamily.AF_INET: 2>, type=<SocketKind.SOCK_DGRAM: 2>, laddr=addr(ip='192.168.56.1', port=1900), raddr=(), status='NONE', pid=4104),\n",
      "    sconn(fd=-1, family=<AddressFamily.AF_INET: 2>, type=<SocketKind.SOCK_DGRAM: 2>, laddr=addr(ip='127.0.0.1', port=62667), raddr=(), status='NONE', pid=25404),\n",
      "    sconn(fd=-1, family=<AddressFamily.AF_INET: 2>, type=<SocketKind.SOCK_STREAM: 1>, laddr=addr(ip='127.0.0.1', port=53934), raddr=addr(ip='127.0.0.1', port=53933), status='ESTABLISHED', pid=28808),\n",
      "    sconn(fd=-1, family=<AddressFamily.AF_INET6: 23>, type=<SocketKind.SOCK_STREAM: 1>, laddr=addr(ip='::', port=135), raddr=(), status='LISTEN', pid=1120),\n",
      "    sconn(fd=-1, family=<AddressFamily.AF_INET: 2>, type=<SocketKind.SOCK_DGRAM: 2>, laddr=addr(ip='10.33.16.24', port=56478), raddr=(), status='NONE', pid=4104),\n",
      "    sconn(fd=-1, family=<AddressFamily.AF_INET: 2>, type=<SocketKind.SOCK_DGRAM: 2>, laddr=addr(ip='0.0.0.0', port=51488), raddr=(), status='NONE', pid=26280),\n",
      "    sconn(fd=-1, family=<AddressFamily.AF_INET: 2>, type=<SocketKind.SOCK_STREAM: 1>, laddr=addr(ip='127.0.0.1', port=1120), raddr=addr(ip='127.0.0.1', port=55455), status='TIME_WAIT', pid=0),\n",
      "    sconn(fd=-1, family=<AddressFamily.AF_INET: 2>, type=<SocketKind.SOCK_STREAM: 1>, laddr=addr(ip='127.0.0.1', port=49684), raddr=addr(ip='127.0.0.1', port=49683), status='ESTABLISHED', pid=25048),\n",
      "    sconn(fd=-1, family=<AddressFamily.AF_INET6: 23>, type=<SocketKind.SOCK_DGRAM: 2>, laddr=addr(ip='fe80::7f3:af2:d579:c077', port=56468), raddr=(), status='NONE', pid=4104),\n",
      "    sconn(fd=-1, family=<AddressFamily.AF_INET: 2>, type=<SocketKind.SOCK_STREAM: 1>, laddr=addr(ip='127.0.0.1', port=1120), raddr=(), status='LISTEN', pid=24148),\n",
      "    sconn(fd=-1, family=<AddressFamily.AF_INET: 2>, type=<SocketKind.SOCK_STREAM: 1>, laddr=addr(ip='127.0.0.1', port=1120), raddr=addr(ip='127.0.0.1', port=55532), status='TIME_WAIT', pid=0),\n",
      "    sconn(fd=-1, family=<AddressFamily.AF_INET: 2>, type=<SocketKind.SOCK_STREAM: 1>, laddr=addr(ip='127.0.0.1', port=6000), raddr=addr(ip='127.0.0.1', port=52696), status='ESTABLISHED', pid=25240),\n",
      "    sconn(fd=-1, family=<AddressFamily.AF_INET: 2>, type=<SocketKind.SOCK_STREAM: 1>, laddr=addr(ip='127.0.0.1', port=59009), raddr=addr(ip='127.0.0.1', port=59008), status='ESTABLISHED', pid=14580),\n",
      "    sconn(fd=-1, family=<AddressFamily.AF_INET: 2>, type=<SocketKind.SOCK_DGRAM: 2>, laddr=addr(ip='127.0.0.1', port=51481), raddr=(), status='NONE', pid=26280),\n",
      "    sconn(fd=-1, family=<AddressFamily.AF_INET6: 23>, type=<SocketKind.SOCK_DGRAM: 2>, laddr=addr(ip='::', port=500), raddr=(), status='NONE', pid=3628),\n",
      "    sconn(fd=-1, family=<AddressFamily.AF_INET: 2>, type=<SocketKind.SOCK_STREAM: 1>, laddr=addr(ip='10.33.16.24', port=55626), raddr=addr(ip='172.217.169.3', port=443), status='ESTABLISHED', pid=4328),\n",
      "    sconn(fd=-1, family=<AddressFamily.AF_INET: 2>, type=<SocketKind.SOCK_STREAM: 1>, laddr=addr(ip='10.33.16.24', port=55328), raddr=addr(ip='24.105.29.76', port=443), status='CLOSE_WAIT', pid=24148),\n",
      "    sconn(fd=-1, family=<AddressFamily.AF_INET: 2>, type=<SocketKind.SOCK_STREAM: 1>, laddr=addr(ip='127.0.0.1', port=55564), raddr=addr(ip='127.0.0.1', port=49350), status='TIME_WAIT', pid=0),\n",
      "    sconn(fd=-1, family=<AddressFamily.AF_INET: 2>, type=<SocketKind.SOCK_STREAM: 1>, laddr=addr(ip='127.0.0.1', port=1120), raddr=addr(ip='127.0.0.1', port=55611), status='TIME_WAIT', pid=0),\n",
      "    sconn(fd=-1, family=<AddressFamily.AF_INET: 2>, type=<SocketKind.SOCK_STREAM: 1>, laddr=addr(ip='10.33.16.24', port=64085), raddr=addr(ip='52.105.155.55', port=443), status='ESTABLISHED', pid=20344),\n",
      "    sconn(fd=-1, family=<AddressFamily.AF_INET: 2>, type=<SocketKind.SOCK_STREAM: 1>, laddr=addr(ip='127.0.0.1', port=49350), raddr=(), status='LISTEN', pid=15484),\n",
      "    sconn(fd=-1, family=<AddressFamily.AF_INET: 2>, type=<SocketKind.SOCK_STREAM: 1>, laddr=addr(ip='127.0.0.1', port=49528), raddr=addr(ip='127.0.0.1', port=49527), status='ESTABLISHED', pid=26280),\n",
      "    sconn(fd=-1, family=<AddressFamily.AF_INET: 2>, type=<SocketKind.SOCK_STREAM: 1>, laddr=addr(ip='127.0.0.1', port=53928), raddr=addr(ip='127.0.0.1', port=53927), status='ESTABLISHED', pid=28808),\n",
      "    sconn(fd=-1, family=<AddressFamily.AF_INET: 2>, type=<SocketKind.SOCK_STREAM: 1>, laddr=addr(ip='127.0.0.1', port=1120), raddr=addr(ip='127.0.0.1', port=55435), status='TIME_WAIT', pid=0),\n",
      "    sconn(fd=-1, family=<AddressFamily.AF_INET: 2>, type=<SocketKind.SOCK_STREAM: 1>, laddr=addr(ip='127.0.0.1', port=6000), raddr=addr(ip='127.0.0.1', port=52695), status='ESTABLISHED', pid=25240),\n",
      "    sconn(fd=-1, family=<AddressFamily.AF_INET: 2>, type=<SocketKind.SOCK_STREAM: 1>, laddr=addr(ip='127.0.0.1', port=53649), raddr=addr(ip='127.0.0.1', port=53648), status='ESTABLISHED', pid=10412),\n",
      "    sconn(fd=-1, family=<AddressFamily.AF_INET: 2>, type=<SocketKind.SOCK_STREAM: 1>, laddr=addr(ip='127.0.0.1', port=53650), raddr=addr(ip='127.0.0.1', port=53651), status='ESTABLISHED', pid=10412),\n",
      "    sconn(fd=-1, family=<AddressFamily.AF_INET: 2>, type=<SocketKind.SOCK_STREAM: 1>, laddr=addr(ip='127.0.0.1', port=53887), raddr=addr(ip='127.0.0.1', port=53886), status='ESTABLISHED', pid=29780),\n",
      "    sconn(fd=-1, family=<AddressFamily.AF_INET: 2>, type=<SocketKind.SOCK_STREAM: 1>, laddr=addr(ip='127.0.0.1', port=55526), raddr=addr(ip='127.0.0.1', port=49350), status='TIME_WAIT', pid=0),\n",
      "    sconn(fd=-1, family=<AddressFamily.AF_INET: 2>, type=<SocketKind.SOCK_DGRAM: 2>, laddr=addr(ip='10.0.0.1', port=1900), raddr=(), status='NONE', pid=4104),\n",
      "    sconn(fd=-1, family=<AddressFamily.AF_INET: 2>, type=<SocketKind.SOCK_STREAM: 1>, laddr=addr(ip='127.0.0.1', port=1120), raddr=addr(ip='127.0.0.1', port=55513), status='TIME_WAIT', pid=0),\n",
      "    sconn(fd=-1, family=<AddressFamily.AF_INET6: 23>, type=<SocketKind.SOCK_STREAM: 1>, laddr=addr(ip='::', port=49672), raddr=(), status='LISTEN', pid=672),\n",
      "    sconn(fd=-1, family=<AddressFamily.AF_INET: 2>, type=<SocketKind.SOCK_DGRAM: 2>, laddr=addr(ip='127.0.0.1', port=62666), raddr=(), status='NONE', pid=25404),\n",
      "    sconn(fd=-1, family=<AddressFamily.AF_INET: 2>, type=<SocketKind.SOCK_STREAM: 1>, laddr=addr(ip='127.0.0.1', port=53884), raddr=addr(ip='127.0.0.1', port=53883), status='ESTABLISHED', pid=29780),\n",
      "    sconn(fd=-1, family=<AddressFamily.AF_INET: 2>, type=<SocketKind.SOCK_STREAM: 1>, laddr=addr(ip='127.0.0.1', port=55537), raddr=addr(ip='127.0.0.1', port=49350), status='TIME_WAIT', pid=0),\n",
      "    sconn(fd=-1, family=<AddressFamily.AF_INET: 2>, type=<SocketKind.SOCK_STREAM: 1>, laddr=addr(ip='0.0.0.0', port=49667), raddr=(), status='LISTEN', pid=2140),\n",
      "    sconn(fd=-1, family=<AddressFamily.AF_INET: 2>, type=<SocketKind.SOCK_STREAM: 1>, laddr=addr(ip='127.0.0.1', port=55446), raddr=addr(ip='127.0.0.1', port=49350), status='TIME_WAIT', pid=0),\n",
      "    sconn(fd=-1, family=<AddressFamily.AF_INET: 2>, type=<SocketKind.SOCK_STREAM: 1>, laddr=addr(ip='10.33.16.24', port=55478), raddr=addr(ip='23.36.168.147', port=443), status='ESTABLISHED', pid=18624),\n",
      "    sconn(fd=-1, family=<AddressFamily.AF_INET: 2>, type=<SocketKind.SOCK_STREAM: 1>, laddr=addr(ip='10.0.0.1', port=54969), raddr=addr(ip='10.0.0.11', port=6080), status='ESTABLISHED', pid=4328),\n",
      "    sconn(fd=-1, family=<AddressFamily.AF_INET: 2>, type=<SocketKind.SOCK_STREAM: 1>, laddr=addr(ip='10.33.16.24', port=53858), raddr=addr(ip='140.82.113.25', port=443), status='ESTABLISHED', pid=17476),\n",
      "    sconn(fd=-1, family=<AddressFamily.AF_INET: 2>, type=<SocketKind.SOCK_STREAM: 1>, laddr=addr(ip='127.0.0.1', port=55576), raddr=addr(ip='127.0.0.1', port=49350), status='TIME_WAIT', pid=0),\n",
      "    sconn(fd=-1, family=<AddressFamily.AF_INET: 2>, type=<SocketKind.SOCK_STREAM: 1>, laddr=addr(ip='10.33.16.24', port=55439), raddr=addr(ip='206.189.231.23', port=443), status='CLOSE_WAIT', pid=18408),\n",
      "    sconn(fd=-1, family=<AddressFamily.AF_INET: 2>, type=<SocketKind.SOCK_DGRAM: 2>, laddr=addr(ip='10.33.16.24', port=5353), raddr=(), status='NONE', pid=3952),\n",
      "    sconn(fd=-1, family=<AddressFamily.AF_INET: 2>, type=<SocketKind.SOCK_STREAM: 1>, laddr=addr(ip='127.0.0.1', port=53563), raddr=addr(ip='127.0.0.1', port=53562), status='ESTABLISHED', pid=13680),\n",
      "    sconn(fd=-1, family=<AddressFamily.AF_INET: 2>, type=<SocketKind.SOCK_STREAM: 1>, laddr=addr(ip='127.0.0.1', port=53880), raddr=addr(ip='127.0.0.1', port=53879), status='ESTABLISHED', pid=29780),\n",
      "    sconn(fd=-1, family=<AddressFamily.AF_INET: 2>, type=<SocketKind.SOCK_STREAM: 1>, laddr=addr(ip='127.0.0.1', port=1120), raddr=addr(ip='127.0.0.1', port=55443), status='TIME_WAIT', pid=0),\n",
      "    sconn(fd=-1, family=<AddressFamily.AF_INET: 2>, type=<SocketKind.SOCK_STREAM: 1>, laddr=addr(ip='10.33.16.24', port=55396), raddr=addr(ip='143.204.192.228', port=443), status='ESTABLISHED', pid=4328),\n",
      "    sconn(fd=-1, family=<AddressFamily.AF_INET: 2>, type=<SocketKind.SOCK_DGRAM: 2>, laddr=addr(ip='0.0.0.0', port=51684), raddr=(), status='NONE', pid=17520),\n",
      "    sconn(fd=-1, family=<AddressFamily.AF_INET: 2>, type=<SocketKind.SOCK_DGRAM: 2>, laddr=addr(ip='192.168.153.1', port=56475), raddr=(), status='NONE', pid=4104),\n",
      "    sconn(fd=-1, family=<AddressFamily.AF_INET: 2>, type=<SocketKind.SOCK_DGRAM: 2>, laddr=addr(ip='10.0.0.1', port=56474), raddr=(), status='NONE', pid=4104),\n",
      "    sconn(fd=-1, family=<AddressFamily.AF_INET: 2>, type=<SocketKind.SOCK_STREAM: 1>, laddr=addr(ip='127.0.0.1', port=52509), raddr=(), status='LISTEN', pid=28808),\n",
      "    sconn(fd=-1, family=<AddressFamily.AF_INET: 2>, type=<SocketKind.SOCK_STREAM: 1>, laddr=addr(ip='10.33.16.24', port=55476), raddr=addr(ip='23.36.168.147', port=443), status='ESTABLISHED', pid=18624),\n",
      "    sconn(fd=-1, family=<AddressFamily.AF_INET: 2>, type=<SocketKind.SOCK_STREAM: 1>, laddr=addr(ip='127.0.0.1', port=55629), raddr=addr(ip='127.0.0.1', port=49350), status='FIN_WAIT2', pid=15484),\n",
      "    sconn(fd=-1, family=<AddressFamily.AF_INET6: 23>, type=<SocketKind.SOCK_DGRAM: 2>, laddr=addr(ip='::', port=5353), raddr=(), status='NONE', pid=3108),\n",
      "    sconn(fd=-1, family=<AddressFamily.AF_INET: 2>, type=<SocketKind.SOCK_STREAM: 1>, laddr=addr(ip='127.0.0.1', port=3213), raddr=(), status='LISTEN', pid=17520),\n",
      "    sconn(fd=-1, family=<AddressFamily.AF_INET: 2>, type=<SocketKind.SOCK_DGRAM: 2>, laddr=addr(ip='127.0.0.1', port=49664), raddr=(), status='NONE', pid=4644),\n",
      "    sconn(fd=-1, family=<AddressFamily.AF_INET: 2>, type=<SocketKind.SOCK_STREAM: 1>, laddr=addr(ip='0.0.0.0', port=6000), raddr=(), status='LISTEN', pid=25240),\n",
      "    sconn(fd=-1, family=<AddressFamily.AF_INET6: 23>, type=<SocketKind.SOCK_DGRAM: 2>, laddr=addr(ip='fe80::8e54:42cc:cf62:6484', port=56466), raddr=(), status='NONE', pid=4104),\n",
      "    sconn(fd=-1, family=<AddressFamily.AF_INET: 2>, type=<SocketKind.SOCK_DGRAM: 2>, laddr=addr(ip='192.168.102.1', port=56477), raddr=(), status='NONE', pid=4104),\n",
      "    sconn(fd=-1, family=<AddressFamily.AF_INET: 2>, type=<SocketKind.SOCK_STREAM: 1>, laddr=addr(ip='127.0.0.1', port=49662), raddr=addr(ip='127.0.0.1', port=49663), status='ESTABLISHED', pid=25048),\n",
      "    sconn(fd=-1, family=<AddressFamily.AF_INET: 2>, type=<SocketKind.SOCK_STREAM: 1>, laddr=addr(ip='127.0.0.1', port=53899), raddr=addr(ip='127.0.0.1', port=53900), status='ESTABLISHED', pid=29780),\n",
      "    sconn(fd=-1, family=<AddressFamily.AF_INET: 2>, type=<SocketKind.SOCK_STREAM: 1>, laddr=addr(ip='10.33.16.24', port=55179), raddr=addr(ip='142.250.178.14', port=443), status='TIME_WAIT', pid=0),\n",
      "    sconn(fd=-1, family=<AddressFamily.AF_INET: 2>, type=<SocketKind.SOCK_STREAM: 1>, laddr=addr(ip='127.0.0.1', port=53910), raddr=addr(ip='127.0.0.1', port=53911), status='ESTABLISHED', pid=29780),\n",
      "    sconn(fd=-1, family=<AddressFamily.AF_INET: 2>, type=<SocketKind.SOCK_STREAM: 1>, laddr=addr(ip='127.0.0.1', port=53923), raddr=addr(ip='127.0.0.1', port=53922), status='ESTABLISHED', pid=28808),\n",
      "    sconn(fd=-1, family=<AddressFamily.AF_INET: 2>, type=<SocketKind.SOCK_STREAM: 1>, laddr=addr(ip='127.0.0.1', port=59217), raddr=addr(ip='127.0.0.1', port=59218), status='ESTABLISHED', pid=4756),\n",
      "    sconn(fd=-1, family=<AddressFamily.AF_INET: 2>, type=<SocketKind.SOCK_STREAM: 1>, laddr=addr(ip='127.0.0.1', port=55409), raddr=addr(ip='127.0.0.1', port=55410), status='ESTABLISHED', pid=29780),\n",
      "    sconn(fd=-1, family=<AddressFamily.AF_INET: 2>, type=<SocketKind.SOCK_DGRAM: 2>, laddr=addr(ip='192.168.153.1', port=53727), raddr=(), status='NONE', pid=28024),\n",
      "    sconn(fd=-1, family=<AddressFamily.AF_INET6: 23>, type=<SocketKind.SOCK_DGRAM: 2>, laddr=addr(ip='::', port=62855), raddr=(), status='NONE', pid=16000),\n",
      "    sconn(fd=-1, family=<AddressFamily.AF_INET: 2>, type=<SocketKind.SOCK_STREAM: 1>, laddr=addr(ip='127.0.0.1', port=59149), raddr=(), status='LISTEN', pid=13680),\n",
      "    sconn(fd=-1, family=<AddressFamily.AF_INET: 2>, type=<SocketKind.SOCK_STREAM: 1>, laddr=addr(ip='127.0.0.1', port=53895), raddr=addr(ip='127.0.0.1', port=53896), status='ESTABLISHED', pid=29780),\n",
      "    sconn(fd=-1, family=<AddressFamily.AF_INET: 2>, type=<SocketKind.SOCK_STREAM: 1>, laddr=addr(ip='10.33.16.24', port=65065), raddr=addr(ip='52.113.194.132', port=443), status='ESTABLISHED', pid=18380),\n",
      "    sconn(fd=-1, family=<AddressFamily.AF_INET: 2>, type=<SocketKind.SOCK_STREAM: 1>, laddr=addr(ip='127.0.0.1', port=55538), raddr=addr(ip='127.0.0.1', port=49350), status='TIME_WAIT', pid=0),\n",
      "    sconn(fd=-1, family=<AddressFamily.AF_INET: 2>, type=<SocketKind.SOCK_STREAM: 1>, laddr=addr(ip='10.33.16.24', port=53720), raddr=addr(ip='142.4.216.103', port=443), status='CLOSE_WAIT', pid=27016),\n",
      "    sconn(fd=-1, family=<AddressFamily.AF_INET: 2>, type=<SocketKind.SOCK_STREAM: 1>, laddr=addr(ip='127.0.0.1', port=53875), raddr=addr(ip='127.0.0.1', port=53876), status='ESTABLISHED', pid=29780),\n",
      "    sconn(fd=-1, family=<AddressFamily.AF_INET: 2>, type=<SocketKind.SOCK_STREAM: 1>, laddr=addr(ip='127.0.0.1', port=53920), raddr=addr(ip='127.0.0.1', port=53921), status='ESTABLISHED', pid=28808),\n",
      "    sconn(fd=-1, family=<AddressFamily.AF_INET: 2>, type=<SocketKind.SOCK_STREAM: 1>, laddr=addr(ip='10.0.0.1', port=54966), raddr=addr(ip='10.0.0.11', port=6080), status='ESTABLISHED', pid=4328),\n",
      "    sconn(fd=-1, family=<AddressFamily.AF_INET: 2>, type=<SocketKind.SOCK_STREAM: 1>, laddr=addr(ip='127.0.0.1', port=1120), raddr=addr(ip='127.0.0.1', port=55527), status='TIME_WAIT', pid=0),\n",
      "    sconn(fd=-1, family=<AddressFamily.AF_INET: 2>, type=<SocketKind.SOCK_DGRAM: 2>, laddr=addr(ip='127.0.0.1', port=62668), raddr=(), status='NONE', pid=26320),\n",
      "    sconn(fd=-1, family=<AddressFamily.AF_INET: 2>, type=<SocketKind.SOCK_STREAM: 1>, laddr=addr(ip='127.0.0.1', port=54146), raddr=addr(ip='127.0.0.1', port=54147), status='ESTABLISHED', pid=30360),\n",
      "    sconn(fd=-1, family=<AddressFamily.AF_INET: 2>, type=<SocketKind.SOCK_DGRAM: 2>, laddr=addr(ip='192.168.56.1', port=56473), raddr=(), status='NONE', pid=4104),\n",
      "    sconn(fd=-1, family=<AddressFamily.AF_INET: 2>, type=<SocketKind.SOCK_STREAM: 1>, laddr=addr(ip='127.0.0.1', port=55557), raddr=addr(ip='127.0.0.1', port=49350), status='TIME_WAIT', pid=0),\n",
      "    sconn(fd=-1, family=<AddressFamily.AF_INET: 2>, type=<SocketKind.SOCK_DGRAM: 2>, laddr=addr(ip='0.0.0.0', port=58439), raddr=(), status='NONE', pid=16000),\n",
      "    sconn(fd=-1, family=<AddressFamily.AF_INET: 2>, type=<SocketKind.SOCK_STREAM: 1>, laddr=addr(ip='127.0.0.1', port=53908), raddr=addr(ip='127.0.0.1', port=53909), status='ESTABLISHED', pid=29780),\n",
      "    sconn(fd=-1, family=<AddressFamily.AF_INET: 2>, type=<SocketKind.SOCK_STREAM: 1>, laddr=addr(ip='127.0.0.1', port=59149), raddr=addr(ip='127.0.0.1', port=55570), status='TIME_WAIT', pid=0),\n",
      "    sconn(fd=-1, family=<AddressFamily.AF_INET: 2>, type=<SocketKind.SOCK_DGRAM: 2>, laddr=addr(ip='127.0.0.1', port=10010), raddr=(), status='NONE', pid=1412),\n",
      "    sconn(fd=-1, family=<AddressFamily.AF_INET: 2>, type=<SocketKind.SOCK_DGRAM: 2>, laddr=addr(ip='192.168.102.1', port=5353), raddr=(), status='NONE', pid=3952),\n",
      "    sconn(fd=-1, family=<AddressFamily.AF_INET: 2>, type=<SocketKind.SOCK_STREAM: 1>, laddr=addr(ip='127.0.0.1', port=53926), raddr=addr(ip='127.0.0.1', port=9012), status='ESTABLISHED', pid=28808),\n",
      "    sconn(fd=-1, family=<AddressFamily.AF_INET6: 23>, type=<SocketKind.SOCK_DGRAM: 2>, laddr=addr(ip='fe80::c935:d75f:dc73:cb91', port=1900), raddr=(), status='NONE', pid=4104),\n",
      "    sconn(fd=-1, family=<AddressFamily.AF_INET: 2>, type=<SocketKind.SOCK_DGRAM: 2>, laddr=addr(ip='192.168.100.1', port=53728), raddr=(), status='NONE', pid=28024),\n",
      "    sconn(fd=-1, family=<AddressFamily.AF_INET: 2>, type=<SocketKind.SOCK_DGRAM: 2>, laddr=addr(ip='127.0.0.1', port=62669), raddr=(), status='NONE', pid=26320),\n",
      "    sconn(fd=-1, family=<AddressFamily.AF_INET: 2>, type=<SocketKind.SOCK_STREAM: 1>, laddr=addr(ip='10.33.16.24', port=52580), raddr=addr(ip='35.190.41.116', port=443), status='ESTABLISHED', pid=4328),\n",
      "    sconn(fd=-1, family=<AddressFamily.AF_INET: 2>, type=<SocketKind.SOCK_STREAM: 1>, laddr=addr(ip='127.0.0.1', port=58512), raddr=addr(ip='127.0.0.1', port=58511), status='ESTABLISHED', pid=26020),\n",
      "    sconn(fd=-1, family=<AddressFamily.AF_INET: 2>, type=<SocketKind.SOCK_STREAM: 1>, laddr=addr(ip='10.33.16.24', port=55536), raddr=addr(ip='51.124.32.246', port=443), status='TIME_WAIT', pid=0),\n",
      "    sconn(fd=-1, family=<AddressFamily.AF_INET: 2>, type=<SocketKind.SOCK_DGRAM: 2>, laddr=addr(ip='192.168.102.1', port=137), raddr=(), status='NONE', pid=4),\n",
      "    sconn(fd=-1, family=<AddressFamily.AF_INET: 2>, type=<SocketKind.SOCK_STREAM: 1>, laddr=addr(ip='127.0.0.1', port=1120), raddr=addr(ip='127.0.0.1', port=55584), status='TIME_WAIT', pid=0),\n",
      "    sconn(fd=-1, family=<AddressFamily.AF_INET: 2>, type=<SocketKind.SOCK_STREAM: 1>, laddr=addr(ip='127.0.0.1', port=1120), raddr=addr(ip='127.0.0.1', port=55447), status='TIME_WAIT', pid=0),\n",
      "    sconn(fd=-1, family=<AddressFamily.AF_INET: 2>, type=<SocketKind.SOCK_STREAM: 1>, laddr=addr(ip='0.0.0.0', port=7070), raddr=(), status='LISTEN', pid=3976),\n",
      "    sconn(fd=-1, family=<AddressFamily.AF_INET6: 23>, type=<SocketKind.SOCK_DGRAM: 2>, laddr=addr(ip='fe80::5bf6:6308:b79f:2cf9', port=56471), raddr=(), status='NONE', pid=4104),\n",
      "    sconn(fd=-1, family=<AddressFamily.AF_INET: 2>, type=<SocketKind.SOCK_STREAM: 1>, laddr=addr(ip='10.33.16.24', port=49705), raddr=addr(ip='208.91.0.89', port=443), status='CLOSE_WAIT', pid=25048),\n",
      "    sconn(fd=-1, family=<AddressFamily.AF_INET: 2>, type=<SocketKind.SOCK_STREAM: 1>, laddr=addr(ip='127.0.0.1', port=1120), raddr=addr(ip='127.0.0.1', port=55514), status='TIME_WAIT', pid=0),\n",
      "    sconn(fd=-1, family=<AddressFamily.AF_INET6: 23>, type=<SocketKind.SOCK_DGRAM: 2>, laddr=addr(ip='fe80::d5e9:c7cc:fd0f:a5e9', port=56467), raddr=(), status='NONE', pid=4104),\n",
      "    sconn(fd=-1, family=<AddressFamily.AF_INET: 2>, type=<SocketKind.SOCK_STREAM: 1>, laddr=addr(ip='127.0.0.1', port=53900), raddr=addr(ip='127.0.0.1', port=53899), status='ESTABLISHED', pid=29780),\n",
      "    sconn(fd=-1, family=<AddressFamily.AF_INET: 2>, type=<SocketKind.SOCK_STREAM: 1>, laddr=addr(ip='127.0.0.1', port=49663), raddr=addr(ip='127.0.0.1', port=49662), status='ESTABLISHED', pid=25048),\n",
      "    sconn(fd=-1, family=<AddressFamily.AF_INET: 2>, type=<SocketKind.SOCK_STREAM: 1>, laddr=addr(ip='127.0.0.1', port=55448), raddr=addr(ip='127.0.0.1', port=49350), status='TIME_WAIT', pid=0),\n",
      "    sconn(fd=-1, family=<AddressFamily.AF_INET: 2>, type=<SocketKind.SOCK_DGRAM: 2>, laddr=addr(ip='127.0.0.1', port=59558), raddr=(), status='NONE', pid=26280),\n",
      "    sconn(fd=-1, family=<AddressFamily.AF_INET: 2>, type=<SocketKind.SOCK_STREAM: 1>, laddr=addr(ip='10.0.0.1', port=54967), raddr=addr(ip='10.0.0.11', port=6080), status='ESTABLISHED', pid=4328),\n",
      "    sconn(fd=-1, family=<AddressFamily.AF_INET6: 23>, type=<SocketKind.SOCK_STREAM: 1>, laddr=addr(ip='::1', port=49702), raddr=addr(ip='::1', port=49701), status='ESTABLISHED', pid=25048),\n",
      "    sconn(fd=-1, family=<AddressFamily.AF_INET: 2>, type=<SocketKind.SOCK_DGRAM: 2>, laddr=addr(ip='0.0.0.0', port=51490), raddr=(), status='NONE', pid=26280),\n",
      "    sconn(fd=-1, family=<AddressFamily.AF_INET: 2>, type=<SocketKind.SOCK_DGRAM: 2>, laddr=addr(ip='0.0.0.0', port=5050), raddr=(), status='NONE', pid=8272),\n",
      "    sconn(fd=-1, family=<AddressFamily.AF_INET: 2>, type=<SocketKind.SOCK_STREAM: 1>, laddr=addr(ip='10.33.16.24', port=55568), raddr=addr(ip='13.107.5.88', port=443), status='ESTABLISHED', pid=9884),\n",
      "    sconn(fd=-1, family=<AddressFamily.AF_INET: 2>, type=<SocketKind.SOCK_STREAM: 1>, laddr=addr(ip='127.0.0.1', port=1120), raddr=addr(ip='127.0.0.1', port=55603), status='TIME_WAIT', pid=0),\n",
      "    sconn(fd=-1, family=<AddressFamily.AF_INET: 2>, type=<SocketKind.SOCK_STREAM: 1>, laddr=addr(ip='127.0.0.1', port=55463), raddr=addr(ip='127.0.0.1', port=49350), status='TIME_WAIT', pid=0),\n",
      "    sconn(fd=-1, family=<AddressFamily.AF_INET: 2>, type=<SocketKind.SOCK_STREAM: 1>, laddr=addr(ip='192.168.153.1', port=139), raddr=(), status='LISTEN', pid=4),\n",
      "    sconn(fd=-1, family=<AddressFamily.AF_INET: 2>, type=<SocketKind.SOCK_DGRAM: 2>, laddr=addr(ip='127.0.0.1', port=56479), raddr=(), status='NONE', pid=4104),\n",
      "    sconn(fd=-1, family=<AddressFamily.AF_INET: 2>, type=<SocketKind.SOCK_STREAM: 1>, laddr=addr(ip='127.0.0.1', port=53918), raddr=addr(ip='127.0.0.1', port=53919), status='ESTABLISHED', pid=28808),\n",
      "    sconn(fd=-1, family=<AddressFamily.AF_INET: 2>, type=<SocketKind.SOCK_STREAM: 1>, laddr=addr(ip='127.0.0.1', port=1120), raddr=addr(ip='127.0.0.1', port=55421), status='TIME_WAIT', pid=0),\n",
      "    sconn(fd=-1, family=<AddressFamily.AF_INET6: 23>, type=<SocketKind.SOCK_DGRAM: 2>, laddr=addr(ip='::', port=5353), raddr=(), status='NONE', pid=28024),\n",
      "    sconn(fd=-1, family=<AddressFamily.AF_INET: 2>, type=<SocketKind.SOCK_DGRAM: 2>, laddr=addr(ip='127.0.0.1', port=51487), raddr=(), status='NONE', pid=26280),\n",
      "    sconn(fd=-1, family=<AddressFamily.AF_INET: 2>, type=<SocketKind.SOCK_DGRAM: 2>, laddr=addr(ip='127.0.0.1', port=51483), raddr=(), status='NONE', pid=26280),\n",
      "    sconn(fd=-1, family=<AddressFamily.AF_INET: 2>, type=<SocketKind.SOCK_DGRAM: 2>, laddr=addr(ip='0.0.0.0', port=5355), raddr=(), status='NONE', pid=3108),\n",
      "    sconn(fd=-1, family=<AddressFamily.AF_INET6: 23>, type=<SocketKind.SOCK_STREAM: 1>, laddr=addr(ip='::', port=49664), raddr=(), status='LISTEN', pid=660),\n",
      "    sconn(fd=-1, family=<AddressFamily.AF_INET: 2>, type=<SocketKind.SOCK_STREAM: 1>, laddr=addr(ip='127.0.0.1', port=55470), raddr=addr(ip='127.0.0.1', port=49350), status='TIME_WAIT', pid=0),\n",
      "    sconn(fd=-1, family=<AddressFamily.AF_INET: 2>, type=<SocketKind.SOCK_STREAM: 1>, laddr=addr(ip='127.0.0.1', port=1120), raddr=addr(ip='127.0.0.1', port=55495), status='TIME_WAIT', pid=0),\n",
      "    sconn(fd=-1, family=<AddressFamily.AF_INET: 2>, type=<SocketKind.SOCK_STREAM: 1>, laddr=addr(ip='127.0.0.1', port=9012), raddr=(), status='LISTEN', pid=29780),\n",
      "    sconn(fd=-1, family=<AddressFamily.AF_INET: 2>, type=<SocketKind.SOCK_STREAM: 1>, laddr=addr(ip='127.0.0.1', port=53947), raddr=addr(ip='127.0.0.1', port=53946), status='ESTABLISHED', pid=29780),\n",
      "    sconn(fd=-1, family=<AddressFamily.AF_INET: 2>, type=<SocketKind.SOCK_STREAM: 1>, laddr=addr(ip='127.0.0.1', port=1120), raddr=addr(ip='127.0.0.1', port=55614), status='TIME_WAIT', pid=0),\n",
      "    sconn(fd=-1, family=<AddressFamily.AF_INET: 2>, type=<SocketKind.SOCK_STREAM: 1>, laddr=addr(ip='127.0.0.1', port=53932), raddr=addr(ip='127.0.0.1', port=9009), status='ESTABLISHED', pid=28808),\n",
      "    sconn(fd=-1, family=<AddressFamily.AF_INET: 2>, type=<SocketKind.SOCK_STREAM: 1>, laddr=addr(ip='127.0.0.1', port=53909), raddr=addr(ip='127.0.0.1', port=53908), status='ESTABLISHED', pid=29780),\n",
      "    sconn(fd=-1, family=<AddressFamily.AF_INET: 2>, type=<SocketKind.SOCK_STREAM: 1>, laddr=addr(ip='127.0.0.1', port=59232), raddr=addr(ip='127.0.0.1', port=59231), status='ESTABLISHED', pid=4756),\n",
      "    sconn(fd=-1, family=<AddressFamily.AF_INET: 2>, type=<SocketKind.SOCK_STREAM: 1>, laddr=addr(ip='10.33.16.24', port=55492), raddr=addr(ip='35.169.159.54', port=443), status='TIME_WAIT', pid=0),\n",
      "    sconn(fd=-1, family=<AddressFamily.AF_INET6: 23>, type=<SocketKind.SOCK_DGRAM: 2>, laddr=addr(ip='::1', port=1900), raddr=(), status='NONE', pid=4104),\n",
      "    sconn(fd=-1, family=<AddressFamily.AF_INET: 2>, type=<SocketKind.SOCK_STREAM: 1>, laddr=addr(ip='127.0.0.1', port=1120), raddr=addr(ip='127.0.0.1', port=55437), status='TIME_WAIT', pid=0),\n",
      "    sconn(fd=-1, family=<AddressFamily.AF_INET: 2>, type=<SocketKind.SOCK_STREAM: 1>, laddr=addr(ip='10.33.16.24', port=55385), raddr=addr(ip='52.97.179.226', port=443), status='ESTABLISHED', pid=20188),\n",
      "    sconn(fd=-1, family=<AddressFamily.AF_INET: 2>, type=<SocketKind.SOCK_STREAM: 1>, laddr=addr(ip='10.33.16.24', port=51489), raddr=addr(ip='52.105.155.55', port=443), status='TIME_WAIT', pid=0),\n",
      "    sconn(fd=-1, family=<AddressFamily.AF_INET: 2>, type=<SocketKind.SOCK_STREAM: 1>, laddr=addr(ip='127.0.0.1', port=59148), raddr=addr(ip='127.0.0.1', port=55574), status='TIME_WAIT', pid=0),\n",
      "    sconn(fd=-1, family=<AddressFamily.AF_INET: 2>, type=<SocketKind.SOCK_STREAM: 1>, laddr=addr(ip='127.0.0.1', port=55404), raddr=addr(ip='127.0.0.1', port=55403), status='ESTABLISHED', pid=29780),\n",
      "    sconn(fd=-1, family=<AddressFamily.AF_INET: 2>, type=<SocketKind.SOCK_STREAM: 1>, laddr=addr(ip='127.0.0.1', port=53913), raddr=addr(ip='127.0.0.1', port=53912), status='ESTABLISHED', pid=29780),\n",
      "    sconn(fd=-1, family=<AddressFamily.AF_INET6: 23>, type=<SocketKind.SOCK_DGRAM: 2>, laddr=addr(ip='::', port=58439), raddr=(), status='NONE', pid=16000),\n",
      "    sconn(fd=-1, family=<AddressFamily.AF_INET: 2>, type=<SocketKind.SOCK_STREAM: 1>, laddr=addr(ip='127.0.0.1', port=59231), raddr=addr(ip='127.0.0.1', port=59232), status='ESTABLISHED', pid=4756),\n",
      "    sconn(fd=-1, family=<AddressFamily.AF_INET: 2>, type=<SocketKind.SOCK_STREAM: 1>, laddr=addr(ip='127.0.0.1', port=1120), raddr=addr(ip='127.0.0.1', port=55610), status='TIME_WAIT', pid=0),\n",
      "    sconn(fd=-1, family=<AddressFamily.AF_INET: 2>, type=<SocketKind.SOCK_STREAM: 1>, laddr=addr(ip='127.0.0.1', port=53894), raddr=addr(ip='127.0.0.1', port=53893), status='ESTABLISHED', pid=29780),\n",
      "    sconn(fd=-1, family=<AddressFamily.AF_INET: 2>, type=<SocketKind.SOCK_STREAM: 1>, laddr=addr(ip='0.0.0.0', port=49666), raddr=(), status='LISTEN', pid=1724),\n",
      "    sconn(fd=-1, family=<AddressFamily.AF_INET: 2>, type=<SocketKind.SOCK_STREAM: 1>, laddr=addr(ip='127.0.0.1', port=53892), raddr=addr(ip='127.0.0.1', port=9010), status='ESTABLISHED', pid=29780),\n",
      "    sconn(fd=-1, family=<AddressFamily.AF_INET: 2>, type=<SocketKind.SOCK_STREAM: 1>, laddr=addr(ip='127.0.0.1', port=53911), raddr=addr(ip='127.0.0.1', port=53910), status='ESTABLISHED', pid=29780),\n",
      "    sconn(fd=-1, family=<AddressFamily.AF_INET: 2>, type=<SocketKind.SOCK_STREAM: 1>, laddr=addr(ip='10.33.16.24', port=55438), raddr=addr(ip='162.125.64.18', port=443), status='CLOSE_WAIT', pid=18408),\n",
      "    sconn(fd=-1, family=<AddressFamily.AF_INET: 2>, type=<SocketKind.SOCK_STREAM: 1>, laddr=addr(ip='10.0.0.1', port=54968), raddr=addr(ip='10.0.0.11', port=6080), status='ESTABLISHED', pid=4328),\n",
      "    sconn(fd=-1, family=<AddressFamily.AF_INET: 2>, type=<SocketKind.SOCK_STREAM: 1>, laddr=addr(ip='0.0.0.0', port=49668), raddr=(), status='LISTEN', pid=2972),\n",
      "    sconn(fd=-1, family=<AddressFamily.AF_INET: 2>, type=<SocketKind.SOCK_STREAM: 1>, laddr=addr(ip='127.0.0.1', port=53891), raddr=addr(ip='127.0.0.1', port=53890), status='ESTABLISHED', pid=29780),\n",
      "    sconn(fd=-1, family=<AddressFamily.AF_INET6: 23>, type=<SocketKind.SOCK_DGRAM: 2>, laddr=addr(ip='::', port=60887), raddr=(), status='NONE', pid=3952),\n",
      "    sconn(fd=-1, family=<AddressFamily.AF_INET: 2>, type=<SocketKind.SOCK_DGRAM: 2>, laddr=addr(ip='0.0.0.0', port=62082), raddr=(), status='NONE', pid=26280),\n",
      "    sconn(fd=-1, family=<AddressFamily.AF_INET: 2>, type=<SocketKind.SOCK_STREAM: 1>, laddr=addr(ip='127.0.0.1', port=53896), raddr=addr(ip='127.0.0.1', port=53895), status='ESTABLISHED', pid=29780),\n",
      "    sconn(fd=-1, family=<AddressFamily.AF_INET: 2>, type=<SocketKind.SOCK_STREAM: 1>, laddr=addr(ip='127.0.0.1', port=49685), raddr=addr(ip='127.0.0.1', port=49687), status='ESTABLISHED', pid=27140),\n",
      "    sconn(fd=-1, family=<AddressFamily.AF_INET: 2>, type=<SocketKind.SOCK_STREAM: 1>, laddr=addr(ip='127.0.0.1', port=59229), raddr=addr(ip='127.0.0.1', port=59230), status='ESTABLISHED', pid=4756),\n",
      "    sconn(fd=-1, family=<AddressFamily.AF_INET: 2>, type=<SocketKind.SOCK_DGRAM: 2>, laddr=addr(ip='10.0.0.1', port=138), raddr=(), status='NONE', pid=4),\n",
      "    sconn(fd=-1, family=<AddressFamily.AF_INET: 2>, type=<SocketKind.SOCK_STREAM: 1>, laddr=addr(ip='10.33.16.24', port=58301), raddr=addr(ip='13.107.42.14', port=443), status='ESTABLISHED', pid=4328),\n",
      "    sconn(fd=-1, family=<AddressFamily.AF_INET: 2>, type=<SocketKind.SOCK_STREAM: 1>, laddr=addr(ip='127.0.0.1', port=65221), raddr=addr(ip='127.0.0.1', port=65222), status='ESTABLISHED', pid=4668),\n",
      "    sconn(fd=-1, family=<AddressFamily.AF_INET: 2>, type=<SocketKind.SOCK_STREAM: 1>, laddr=addr(ip='127.0.0.1', port=55558), raddr=addr(ip='127.0.0.1', port=49350), status='TIME_WAIT', pid=0),\n",
      "    sconn(fd=-1, family=<AddressFamily.AF_INET: 2>, type=<SocketKind.SOCK_STREAM: 1>, laddr=addr(ip='127.0.0.1', port=1120), raddr=addr(ip='127.0.0.1', port=55630), status='TIME_WAIT', pid=0),\n",
      "    sconn(fd=-1, family=<AddressFamily.AF_INET: 2>, type=<SocketKind.SOCK_STREAM: 1>, laddr=addr(ip='127.0.0.1', port=3217), raddr=(), status='LISTEN', pid=18624),\n",
      "    sconn(fd=-1, family=<AddressFamily.AF_INET: 2>, type=<SocketKind.SOCK_DGRAM: 2>, laddr=addr(ip='0.0.0.0', port=1900), raddr=(), status='NONE', pid=15484),\n",
      "    sconn(fd=-1, family=<AddressFamily.AF_INET: 2>, type=<SocketKind.SOCK_STREAM: 1>, laddr=addr(ip='127.0.0.1', port=9009), raddr=addr(ip='127.0.0.1', port=53932), status='ESTABLISHED', pid=29780),\n",
      "    sconn(fd=-1, family=<AddressFamily.AF_INET6: 23>, type=<SocketKind.SOCK_STREAM: 1>, laddr=addr(ip='::', port=3389), raddr=(), status='LISTEN', pid=1396),\n",
      "    sconn(fd=-1, family=<AddressFamily.AF_INET: 2>, type=<SocketKind.SOCK_STREAM: 1>, laddr=addr(ip='10.33.16.24', port=55319), raddr=addr(ip='52.97.219.226', port=443), status='TIME_WAIT', pid=0),\n",
      "    sconn(fd=-1, family=<AddressFamily.AF_INET: 2>, type=<SocketKind.SOCK_DGRAM: 2>, laddr=addr(ip='10.0.0.1', port=137), raddr=(), status='NONE', pid=4),\n",
      "    sconn(fd=-1, family=<AddressFamily.AF_INET: 2>, type=<SocketKind.SOCK_STREAM: 1>, laddr=addr(ip='127.0.0.1', port=55591), raddr=addr(ip='127.0.0.1', port=49350), status='TIME_WAIT', pid=0),\n",
      "    sconn(fd=-1, family=<AddressFamily.AF_INET: 2>, type=<SocketKind.SOCK_STREAM: 1>, laddr=addr(ip='127.0.0.1', port=49683), raddr=addr(ip='127.0.0.1', port=49684), status='ESTABLISHED', pid=25048),\n",
      "    sconn(fd=-1, family=<AddressFamily.AF_INET: 2>, type=<SocketKind.SOCK_STREAM: 1>, laddr=addr(ip='127.0.0.1', port=55596), raddr=addr(ip='127.0.0.1', port=49350), status='TIME_WAIT', pid=0),\n",
      "    sconn(fd=-1, family=<AddressFamily.AF_INET: 2>, type=<SocketKind.SOCK_DGRAM: 2>, laddr=addr(ip='127.0.0.1', port=10011), raddr=(), status='NONE', pid=7096),\n",
      "    sconn(fd=-1, family=<AddressFamily.AF_INET: 2>, type=<SocketKind.SOCK_STREAM: 1>, laddr=addr(ip='127.0.0.1', port=55406), raddr=addr(ip='127.0.0.1', port=55405), status='ESTABLISHED', pid=29780),\n",
      "    sconn(fd=-1, family=<AddressFamily.AF_INET: 2>, type=<SocketKind.SOCK_STREAM: 1>, laddr=addr(ip='127.0.0.1', port=53922), raddr=addr(ip='127.0.0.1', port=53923), status='ESTABLISHED', pid=28808),\n",
      "    sconn(fd=-1, family=<AddressFamily.AF_INET: 2>, type=<SocketKind.SOCK_DGRAM: 2>, laddr=addr(ip='127.0.0.1', port=58646), raddr=(), status='NONE', pid=2028),\n",
      "    sconn(fd=-1, family=<AddressFamily.AF_INET: 2>, type=<SocketKind.SOCK_STREAM: 1>, laddr=addr(ip='127.0.0.1', port=59606), raddr=addr(ip='127.0.0.1', port=65001), status='ESTABLISHED', pid=3952),\n",
      "    sconn(fd=-1, family=<AddressFamily.AF_INET: 2>, type=<SocketKind.SOCK_STREAM: 1>, laddr=addr(ip='127.0.0.1', port=55561), raddr=addr(ip='127.0.0.1', port=49350), status='TIME_WAIT', pid=0),\n",
      "    sconn(fd=-1, family=<AddressFamily.AF_INET: 2>, type=<SocketKind.SOCK_STREAM: 1>, laddr=addr(ip='0.0.0.0', port=49671), raddr=(), status='LISTEN', pid=3636),\n",
      "    sconn(fd=-1, family=<AddressFamily.AF_INET: 2>, type=<SocketKind.SOCK_STREAM: 1>, laddr=addr(ip='192.168.56.1', port=139), raddr=(), status='LISTEN', pid=4),\n",
      "    sconn(fd=-1, family=<AddressFamily.AF_INET: 2>, type=<SocketKind.SOCK_STREAM: 1>, laddr=addr(ip='127.0.0.1', port=65222), raddr=addr(ip='127.0.0.1', port=65221), status='ESTABLISHED', pid=4668),\n",
      "    sconn(fd=-1, family=<AddressFamily.AF_INET: 2>, type=<SocketKind.SOCK_STREAM: 1>, laddr=addr(ip='127.0.0.1', port=55556), raddr=addr(ip='127.0.0.1', port=49350), status='TIME_WAIT', pid=0),\n",
      "    sconn(fd=-1, family=<AddressFamily.AF_INET6: 23>, type=<SocketKind.SOCK_STREAM: 1>, laddr=addr(ip='::', port=49667), raddr=(), status='LISTEN', pid=2140),\n",
      "    sconn(fd=-1, family=<AddressFamily.AF_INET: 2>, type=<SocketKind.SOCK_STREAM: 1>, laddr=addr(ip='127.0.0.1', port=55550), raddr=addr(ip='127.0.0.1', port=49350), status='TIME_WAIT', pid=0),\n",
      "    sconn(fd=-1, family=<AddressFamily.AF_INET: 2>, type=<SocketKind.SOCK_STREAM: 1>, laddr=addr(ip='127.0.0.1', port=49681), raddr=addr(ip='127.0.0.1', port=49682), status='ESTABLISHED', pid=25048),\n",
      "    sconn(fd=-1, family=<AddressFamily.AF_INET: 2>, type=<SocketKind.SOCK_STREAM: 1>, laddr=addr(ip='127.0.0.1', port=55395), raddr=addr(ip='127.0.0.1', port=49350), status='TIME_WAIT', pid=0),\n",
      "    sconn(fd=-1, family=<AddressFamily.AF_INET: 2>, type=<SocketKind.SOCK_STREAM: 1>, laddr=addr(ip='0.0.0.0', port=902), raddr=(), status='LISTEN', pid=4668),\n",
      "    sconn(fd=-1, family=<AddressFamily.AF_INET: 2>, type=<SocketKind.SOCK_STREAM: 1>, laddr=addr(ip='127.0.0.1', port=53933), raddr=addr(ip='127.0.0.1', port=53934), status='ESTABLISHED', pid=28808),\n",
      "    sconn(fd=-1, family=<AddressFamily.AF_INET: 2>, type=<SocketKind.SOCK_STREAM: 1>, laddr=addr(ip='127.0.0.1', port=55625), raddr=addr(ip='127.0.0.1', port=49350), status='TIME_WAIT', pid=0),\n",
      "    sconn(fd=-1, family=<AddressFamily.AF_INET: 2>, type=<SocketKind.SOCK_DGRAM: 2>, laddr=addr(ip='192.168.100.1', port=56476), raddr=(), status='NONE', pid=4104),\n",
      "    sconn(fd=-1, family=<AddressFamily.AF_INET6: 23>, type=<SocketKind.SOCK_STREAM: 1>, laddr=addr(ip='::', port=445), raddr=(), status='LISTEN', pid=4),\n",
      "    sconn(fd=-1, family=<AddressFamily.AF_INET: 2>, type=<SocketKind.SOCK_STREAM: 1>, laddr=addr(ip='127.0.0.1', port=1120), raddr=addr(ip='127.0.0.1', port=55511), status='TIME_WAIT', pid=0),\n",
      "    sconn(fd=-1, family=<AddressFamily.AF_INET: 2>, type=<SocketKind.SOCK_STREAM: 1>, laddr=addr(ip='10.33.16.24', port=55475), raddr=addr(ip='23.36.168.147', port=443), status='ESTABLISHED', pid=18624),\n",
      "    sconn(fd=-1, family=<AddressFamily.AF_INET6: 23>, type=<SocketKind.SOCK_STREAM: 1>, laddr=addr(ip='::1', port=59236), raddr=addr(ip='::1', port=59237), status='ESTABLISHED', pid=4756),\n",
      "    sconn(fd=-1, family=<AddressFamily.AF_INET: 2>, type=<SocketKind.SOCK_STREAM: 1>, laddr=addr(ip='127.0.0.1', port=55430), raddr=addr(ip='127.0.0.1', port=49350), status='TIME_WAIT', pid=0),\n",
      "    sconn(fd=-1, family=<AddressFamily.AF_INET: 2>, type=<SocketKind.SOCK_DGRAM: 2>, laddr=addr(ip='0.0.0.0', port=51478), raddr=(), status='NONE', pid=26280),\n",
      "    sconn(fd=-1, family=<AddressFamily.AF_INET: 2>, type=<SocketKind.SOCK_STREAM: 1>, laddr=addr(ip='127.0.0.1', port=53897), raddr=addr(ip='127.0.0.1', port=53898), status='ESTABLISHED', pid=29780),\n",
      "    sconn(fd=-1, family=<AddressFamily.AF_INET6: 23>, type=<SocketKind.SOCK_STREAM: 1>, laddr=addr(ip='::1', port=59237), raddr=addr(ip='::1', port=59236), status='ESTABLISHED', pid=4756),\n",
      "    sconn(fd=-1, family=<AddressFamily.AF_INET: 2>, type=<SocketKind.SOCK_STREAM: 1>, laddr=addr(ip='127.0.0.1', port=52779), raddr=addr(ip='127.0.0.1', port=52780), status='ESTABLISHED', pid=32476),\n",
      "    sconn(fd=-1, family=<AddressFamily.AF_INET: 2>, type=<SocketKind.SOCK_STREAM: 1>, laddr=addr(ip='127.0.0.1', port=53951), raddr=(), status='LISTEN', pid=1512),\n",
      "    sconn(fd=-1, family=<AddressFamily.AF_INET: 2>, type=<SocketKind.SOCK_STREAM: 1>, laddr=addr(ip='10.33.16.24', port=139), raddr=(), status='LISTEN', pid=4),\n",
      "    sconn(fd=-1, family=<AddressFamily.AF_INET: 2>, type=<SocketKind.SOCK_STREAM: 1>, laddr=addr(ip='10.33.16.24', port=53026), raddr=addr(ip='216.58.212.238', port=443), status='ESTABLISHED', pid=4328),\n",
      "    sconn(fd=-1, family=<AddressFamily.AF_INET: 2>, type=<SocketKind.SOCK_STREAM: 1>, laddr=addr(ip='127.0.0.1', port=53939), raddr=addr(ip='127.0.0.1', port=53938), status='ESTABLISHED', pid=29780),\n",
      "    sconn(fd=-1, family=<AddressFamily.AF_INET: 2>, type=<SocketKind.SOCK_STREAM: 1>, laddr=addr(ip='127.0.0.1', port=58779), raddr=addr(ip='127.0.0.1', port=58728), status='ESTABLISHED', pid=12544)]\n"
     ]
    }
   ],
   "source": [
    "## not included in the API \n",
    "print('\\n net iface')\n",
    "pp.pprint(net_iface)"
   ]
  },
  {
   "cell_type": "code",
   "execution_count": 113,
   "metadata": {},
   "outputs": [
    {
     "name": "stdout",
     "output_type": "stream",
     "text": [
      "\n",
      " net if stats \n",
      "{   'Ethernet 3': snicstats(isup=True, duplex=<NicDuplex.NIC_DUPLEX_FULL: 2>, speed=1000, mtu=1500, flags=''),\n",
      "    'Ethernet 4': snicstats(isup=True, duplex=<NicDuplex.NIC_DUPLEX_FULL: 2>, speed=1000, mtu=1500, flags=''),\n",
      "    'Local Area Connection* 10': snicstats(isup=False, duplex=<NicDuplex.NIC_DUPLEX_FULL: 2>, speed=0, mtu=1500, flags=''),\n",
      "    'Local Area Connection* 9': snicstats(isup=False, duplex=<NicDuplex.NIC_DUPLEX_FULL: 2>, speed=0, mtu=1500, flags=''),\n",
      "    'Loopback Pseudo-Interface 1': snicstats(isup=True, duplex=<NicDuplex.NIC_DUPLEX_FULL: 2>, speed=1073, mtu=1500, flags=''),\n",
      "    'VMware Network Adapter VMnet1': snicstats(isup=True, duplex=<NicDuplex.NIC_DUPLEX_FULL: 2>, speed=100, mtu=1500, flags=''),\n",
      "    'VMware Network Adapter VMnet10': snicstats(isup=True, duplex=<NicDuplex.NIC_DUPLEX_FULL: 2>, speed=100, mtu=1500, flags=''),\n",
      "    'VMware Network Adapter VMnet8': snicstats(isup=True, duplex=<NicDuplex.NIC_DUPLEX_FULL: 2>, speed=100, mtu=1500, flags=''),\n",
      "    'Wi-Fi': snicstats(isup=True, duplex=<NicDuplex.NIC_DUPLEX_FULL: 2>, speed=433, mtu=1500, flags='')}\n"
     ]
    }
   ],
   "source": [
    "print('\\n net if stats ')\n",
    "pp.pprint(net_if_stats)"
   ]
  },
  {
   "cell_type": "code",
   "execution_count": 114,
   "metadata": {},
   "outputs": [
    {
     "name": "stdout",
     "output_type": "stream",
     "text": [
      "\n",
      " net if addr\n",
      "{   'Ethernet 3': [   snicaddr(family=<AddressFamily.AF_LINK: -1>, address='0A-00-27-00-00-0F', netmask=None, broadcast=None, ptp=None),\n",
      "                      snicaddr(family=<AddressFamily.AF_INET: 2>, address='192.168.56.1', netmask='255.255.255.0', broadcast=None, ptp=None),\n",
      "                      snicaddr(family=<AddressFamily.AF_INET6: 23>, address='fe80::8e54:42cc:cf62:6484', netmask=None, broadcast=None, ptp=None)],\n",
      "    'Ethernet 4': [   snicaddr(family=<AddressFamily.AF_LINK: -1>, address='0A-00-27-00-00-31', netmask=None, broadcast=None, ptp=None),\n",
      "                      snicaddr(family=<AddressFamily.AF_INET: 2>, address='10.0.0.1', netmask='255.255.255.0', broadcast=None, ptp=None),\n",
      "                      snicaddr(family=<AddressFamily.AF_INET6: 23>, address='fe80::d5e9:c7cc:fd0f:a5e9', netmask=None, broadcast=None, ptp=None)],\n",
      "    'Local Area Connection* 10': [   snicaddr(family=<AddressFamily.AF_LINK: -1>, address='1C-BF-CE-83-19-3F', netmask=None, broadcast=None, ptp=None),\n",
      "                                     snicaddr(family=<AddressFamily.AF_INET: 2>, address='169.254.130.117', netmask='255.255.0.0', broadcast=None, ptp=None),\n",
      "                                     snicaddr(family=<AddressFamily.AF_INET6: 23>, address='fe80::42c1:650e:6fa7:9bf2', netmask=None, broadcast=None, ptp=None)],\n",
      "    'Local Area Connection* 9': [   snicaddr(family=<AddressFamily.AF_LINK: -1>, address='1E-BF-CE-83-19-3F', netmask=None, broadcast=None, ptp=None),\n",
      "                                    snicaddr(family=<AddressFamily.AF_INET: 2>, address='169.254.196.211', netmask='255.255.0.0', broadcast=None, ptp=None),\n",
      "                                    snicaddr(family=<AddressFamily.AF_INET6: 23>, address='fe80::3cd9:18dc:1659:f480', netmask=None, broadcast=None, ptp=None)],\n",
      "    'Loopback Pseudo-Interface 1': [   snicaddr(family=<AddressFamily.AF_INET: 2>, address='127.0.0.1', netmask='255.0.0.0', broadcast=None, ptp=None),\n",
      "                                       snicaddr(family=<AddressFamily.AF_INET6: 23>, address='::1', netmask=None, broadcast=None, ptp=None)],\n",
      "    'VMware Network Adapter VMnet1': [   snicaddr(family=<AddressFamily.AF_LINK: -1>, address='00-50-56-C0-00-01', netmask=None, broadcast=None, ptp=None),\n",
      "                                         snicaddr(family=<AddressFamily.AF_INET: 2>, address='192.168.153.1', netmask='255.255.255.0', broadcast=None, ptp=None),\n",
      "                                         snicaddr(family=<AddressFamily.AF_INET6: 23>, address='fe80::7f3:af2:d579:c077', netmask=None, broadcast=None, ptp=None)],\n",
      "    'VMware Network Adapter VMnet10': [   snicaddr(family=<AddressFamily.AF_LINK: -1>, address='00-50-56-C0-00-0A', netmask=None, broadcast=None, ptp=None),\n",
      "                                          snicaddr(family=<AddressFamily.AF_INET: 2>, address='192.168.102.1', netmask='255.255.255.0', broadcast=None, ptp=None),\n",
      "                                          snicaddr(family=<AddressFamily.AF_INET6: 23>, address='fe80::5271:6a56:bf05:3a3d', netmask=None, broadcast=None, ptp=None)],\n",
      "    'VMware Network Adapter VMnet8': [   snicaddr(family=<AddressFamily.AF_LINK: -1>, address='00-50-56-C0-00-08', netmask=None, broadcast=None, ptp=None),\n",
      "                                         snicaddr(family=<AddressFamily.AF_INET: 2>, address='192.168.100.1', netmask='255.255.255.0', broadcast=None, ptp=None),\n",
      "                                         snicaddr(family=<AddressFamily.AF_INET6: 23>, address='fe80::c935:d75f:dc73:cb91', netmask=None, broadcast=None, ptp=None)],\n",
      "    'Wi-Fi': [   snicaddr(family=<AddressFamily.AF_LINK: -1>, address='1C-BF-CE-83-19-3F', netmask=None, broadcast=None, ptp=None),\n",
      "                 snicaddr(family=<AddressFamily.AF_INET: 2>, address='10.33.16.24', netmask='255.255.255.0', broadcast=None, ptp=None),\n",
      "                 snicaddr(family=<AddressFamily.AF_INET6: 23>, address='fe80::5bf6:6308:b79f:2cf9', netmask=None, broadcast=None, ptp=None)]}\n"
     ]
    }
   ],
   "source": [
    "print('\\n net if addr')\n",
    "pp.pprint(net_if_addr)"
   ]
  },
  {
   "cell_type": "markdown",
   "metadata": {},
   "source": [
    "## dictionary comprehension "
   ]
  },
  {
   "cell_type": "code",
   "execution_count": 116,
   "metadata": {},
   "outputs": [
    {
     "data": {
      "text/plain": [
       "{'bytes_sent': 3699438392,\n",
       " 'bytes_recv': 16336523831,\n",
       " 'packets_sent': 12648570,\n",
       " 'packets_recv': 33350147,\n",
       " 'errin': 0,\n",
       " 'errout': 0,\n",
       " 'dropin': 0,\n",
       " 'dropout': 0}"
      ]
     },
     "execution_count": 116,
     "metadata": {},
     "output_type": "execute_result"
    }
   ],
   "source": [
    "{field : getattr(net_io, field) for field in net_io._fields}"
   ]
  },
  {
   "cell_type": "code",
   "execution_count": 125,
   "metadata": {},
   "outputs": [
    {
     "data": {
      "text/plain": [
       "{'Ethernet 3': {'bytes_sent': 0,\n",
       "  'bytes_recv': 0,\n",
       "  'packets_sent': 0,\n",
       "  'packets_recv': 0,\n",
       "  'errin': 0,\n",
       "  'errout': 0,\n",
       "  'dropin': 0,\n",
       "  'dropout': 0},\n",
       " 'Ethernet 4': {'bytes_sent': 2688969,\n",
       "  'bytes_recv': 3058337,\n",
       "  'packets_sent': 27228,\n",
       "  'packets_recv': 21197,\n",
       "  'errin': 0,\n",
       "  'errout': 0,\n",
       "  'dropin': 0,\n",
       "  'dropout': 0},\n",
       " 'Local Area Connection* 9': {'bytes_sent': 0,\n",
       "  'bytes_recv': 0,\n",
       "  'packets_sent': 0,\n",
       "  'packets_recv': 0,\n",
       "  'errin': 0,\n",
       "  'errout': 0,\n",
       "  'dropin': 0,\n",
       "  'dropout': 0},\n",
       " 'Local Area Connection* 10': {'bytes_sent': 0,\n",
       "  'bytes_recv': 0,\n",
       "  'packets_sent': 0,\n",
       "  'packets_recv': 0,\n",
       "  'errin': 0,\n",
       "  'errout': 0,\n",
       "  'dropin': 0,\n",
       "  'dropout': 0},\n",
       " 'VMware Network Adapter VMnet1': {'bytes_sent': 160431,\n",
       "  'bytes_recv': 4014,\n",
       "  'packets_sent': 160420,\n",
       "  'packets_recv': 4014,\n",
       "  'errin': 0,\n",
       "  'errout': 0,\n",
       "  'dropin': 0,\n",
       "  'dropout': 0},\n",
       " 'VMware Network Adapter VMnet8': {'bytes_sent': 5719521,\n",
       "  'bytes_recv': 10528464,\n",
       "  'packets_sent': 5719522,\n",
       "  'packets_recv': 10528464,\n",
       "  'errin': 0,\n",
       "  'errout': 0,\n",
       "  'dropin': 0,\n",
       "  'dropout': 0},\n",
       " 'VMware Network Adapter VMnet10': {'bytes_sent': 156386,\n",
       "  'bytes_recv': 0,\n",
       "  'packets_sent': 156387,\n",
       "  'packets_recv': 0,\n",
       "  'errin': 0,\n",
       "  'errout': 0,\n",
       "  'dropin': 0,\n",
       "  'dropout': 0},\n",
       " 'Wi-Fi': {'bytes_sent': 3690713085,\n",
       "  'bytes_recv': 16322933016,\n",
       "  'packets_sent': 6585013,\n",
       "  'packets_recv': 22796472,\n",
       "  'errin': 0,\n",
       "  'errout': 0,\n",
       "  'dropin': 0,\n",
       "  'dropout': 0},\n",
       " 'Loopback Pseudo-Interface 1': {'bytes_sent': 0,\n",
       "  'bytes_recv': 0,\n",
       "  'packets_sent': 0,\n",
       "  'packets_recv': 0,\n",
       "  'errin': 0,\n",
       "  'errout': 0,\n",
       "  'dropin': 0,\n",
       "  'dropout': 0}}"
      ]
     },
     "execution_count": 125,
     "metadata": {},
     "output_type": "execute_result"
    }
   ],
   "source": [
    "{iface : \n",
    "    { field : \n",
    "        getattr( net_io_per_nic[iface], field) \n",
    "        for field in net_io_per_nic[iface]._fields  \n",
    "    } \n",
    "    for iface in net_io_per_nic}"
   ]
  },
  {
   "cell_type": "code",
   "execution_count": 137,
   "metadata": {},
   "outputs": [
    {
     "name": "stdout",
     "output_type": "stream",
     "text": [
      "{   'Ethernet 3': {   'ipv4': {'addr': '192.168.56.1', 'mask': '255.255.255.0'},\n",
      "                      'ipv6': 'fe80::8e54:42cc:cf62:6484',\n",
      "                      'mac': '0A-00-27-00-00-0F'},\n",
      "    'Ethernet 4': {   'ipv4': {'addr': '10.0.0.1', 'mask': '255.255.255.0'},\n",
      "                      'ipv6': 'fe80::d5e9:c7cc:fd0f:a5e9',\n",
      "                      'mac': '0A-00-27-00-00-31'},\n",
      "    'Local Area Connection* 10': {   'ipv4': {   'addr': '169.254.130.117',\n",
      "                                                 'mask': '255.255.0.0'},\n",
      "                                     'ipv6': 'fe80::42c1:650e:6fa7:9bf2',\n",
      "                                     'mac': '1C-BF-CE-83-19-3F'},\n",
      "    'Local Area Connection* 9': {   'ipv4': {   'addr': '169.254.196.211',\n",
      "                                                'mask': '255.255.0.0'},\n",
      "                                    'ipv6': 'fe80::3cd9:18dc:1659:f480',\n",
      "                                    'mac': '1E-BF-CE-83-19-3F'},\n",
      "    'Loopback Pseudo-Interface 1': {   'ipv4': {   'addr': '127.0.0.1',\n",
      "                                                   'mask': '255.0.0.0'},\n",
      "                                       'ipv6': '::1'},\n",
      "    'VMware Network Adapter VMnet1': {   'ipv4': {   'addr': '192.168.153.1',\n",
      "                                                     'mask': '255.255.255.0'},\n",
      "                                         'ipv6': 'fe80::7f3:af2:d579:c077',\n",
      "                                         'mac': '00-50-56-C0-00-01'},\n",
      "    'VMware Network Adapter VMnet10': {   'ipv4': {   'addr': '192.168.102.1',\n",
      "                                                      'mask': '255.255.255.0'},\n",
      "                                          'ipv6': 'fe80::5271:6a56:bf05:3a3d',\n",
      "                                          'mac': '00-50-56-C0-00-0A'},\n",
      "    'VMware Network Adapter VMnet8': {   'ipv4': {   'addr': '192.168.100.1',\n",
      "                                                     'mask': '255.255.255.0'},\n",
      "                                         'ipv6': 'fe80::c935:d75f:dc73:cb91',\n",
      "                                         'mac': '00-50-56-C0-00-08'},\n",
      "    'Wi-Fi': {   'ipv4': {'addr': '10.33.16.24', 'mask': '255.255.255.0'},\n",
      "                 'ipv6': 'fe80::5bf6:6308:b79f:2cf9',\n",
      "                 'mac': '1C-BF-CE-83-19-3F'}}\n"
     ]
    }
   ],
   "source": [
    "_net_if_addr={}\n",
    "for iface in net_if_addr:  # key \n",
    "    addr={}\n",
    "    for addr_obj in net_if_addr[iface]: # dict[key] = list\n",
    "        if str(getattr(addr_obj, 'family')) == 'AddressFamily.AF_LINK':    # MAC\n",
    "            addr['mac'] = getattr(addr_obj, 'address')\n",
    "        elif str(getattr(addr_obj, 'family')) == 'AddressFamily.AF_INET':   # IPv4\n",
    "            addr['ipv4'] = {\n",
    "                'addr' : getattr(addr_obj, 'address'),\n",
    "                'mask' : getattr(addr_obj, 'netmask')\n",
    "            }\n",
    "        elif str(getattr(addr_obj, 'family')) == 'AddressFamily.AF_INET6':  # IPv6\n",
    "            addr['ipv6'] = getattr(addr_obj, 'address')\n",
    "        \n",
    "    _net_if_addr[iface] = addr\n",
    "\n",
    "pp.pprint(_net_if_addr)"
   ]
  },
  {
   "cell_type": "code",
   "execution_count": 139,
   "metadata": {},
   "outputs": [
    {
     "data": {
      "text/plain": [
       "{'VMware Network Adapter VMnet1': {'isup': True,\n",
       "  'duplex': <NicDuplex.NIC_DUPLEX_FULL: 2>,\n",
       "  'speed': 100,\n",
       "  'mtu': 1500,\n",
       "  'flags': ''},\n",
       " 'VMware Network Adapter VMnet8': {'isup': True,\n",
       "  'duplex': <NicDuplex.NIC_DUPLEX_FULL: 2>,\n",
       "  'speed': 100,\n",
       "  'mtu': 1500,\n",
       "  'flags': ''},\n",
       " 'VMware Network Adapter VMnet10': {'isup': True,\n",
       "  'duplex': <NicDuplex.NIC_DUPLEX_FULL: 2>,\n",
       "  'speed': 100,\n",
       "  'mtu': 1500,\n",
       "  'flags': ''},\n",
       " 'Ethernet 3': {'isup': True,\n",
       "  'duplex': <NicDuplex.NIC_DUPLEX_FULL: 2>,\n",
       "  'speed': 1000,\n",
       "  'mtu': 1500,\n",
       "  'flags': ''},\n",
       " 'Ethernet 4': {'isup': True,\n",
       "  'duplex': <NicDuplex.NIC_DUPLEX_FULL: 2>,\n",
       "  'speed': 1000,\n",
       "  'mtu': 1500,\n",
       "  'flags': ''},\n",
       " 'Loopback Pseudo-Interface 1': {'isup': True,\n",
       "  'duplex': <NicDuplex.NIC_DUPLEX_FULL: 2>,\n",
       "  'speed': 1073,\n",
       "  'mtu': 1500,\n",
       "  'flags': ''},\n",
       " 'Wi-Fi': {'isup': True,\n",
       "  'duplex': <NicDuplex.NIC_DUPLEX_FULL: 2>,\n",
       "  'speed': 433,\n",
       "  'mtu': 1500,\n",
       "  'flags': ''},\n",
       " 'Local Area Connection* 9': {'isup': False,\n",
       "  'duplex': <NicDuplex.NIC_DUPLEX_FULL: 2>,\n",
       "  'speed': 0,\n",
       "  'mtu': 1500,\n",
       "  'flags': ''},\n",
       " 'Local Area Connection* 10': {'isup': False,\n",
       "  'duplex': <NicDuplex.NIC_DUPLEX_FULL: 2>,\n",
       "  'speed': 0,\n",
       "  'mtu': 1500,\n",
       "  'flags': ''}}"
      ]
     },
     "execution_count": 139,
     "metadata": {},
     "output_type": "execute_result"
    }
   ],
   "source": [
    "{ iface : \n",
    "    { field : getattr(net_if_status[iface], field) \n",
    "        for field in net_if_status[iface]._fields  \n",
    "    } \n",
    "    for iface in net_if_status\n",
    "}"
   ]
  },
  {
   "cell_type": "code",
   "execution_count": null,
   "metadata": {},
   "outputs": [],
   "source": []
  }
 ],
 "metadata": {
  "kernelspec": {
   "display_name": "venv_client",
   "language": "python",
   "name": "python3"
  },
  "language_info": {
   "codemirror_mode": {
    "name": "ipython",
    "version": 3
   },
   "file_extension": ".py",
   "mimetype": "text/x-python",
   "name": "python",
   "nbconvert_exporter": "python",
   "pygments_lexer": "ipython3",
   "version": "3.10.9"
  },
  "orig_nbformat": 4,
  "vscode": {
   "interpreter": {
    "hash": "ccc656e5e542ffcb28fce06bef08bcafafea458bde7fe15130b2da87843afd2d"
   }
  }
 },
 "nbformat": 4,
 "nbformat_minor": 2
}
